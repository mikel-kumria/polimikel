{
 "cells": [
  {
   "cell_type": "code",
   "execution_count": 1,
   "metadata": {},
   "outputs": [
    {
     "name": "stdout",
     "output_type": "stream",
     "text": [
      "Saved 99 rows out of 999 to /home/workspaces/polimikel/data/UCR_dataset/Wafer/Wafer_TRAIN_mini.tsv\n"
     ]
    }
   ],
   "source": [
    "#!/usr/bin/env python\n",
    "import pandas as pd\n",
    "import os\n",
    "\n",
    "def create_mini_tsv(input_file, output_file, fraction=0.1):\n",
    "    \"\"\"\n",
    "    Reads a TSV file and writes a new TSV file containing only the first fraction of rows.\n",
    "\n",
    "    Parameters:\n",
    "      input_file (str): Path to the original TSV file.\n",
    "      output_file (str): Path for the mini TSV file to be created.\n",
    "      fraction (float): Fraction of the rows to keep (default is 0.1 for 10%).\n",
    "    \"\"\"\n",
    "    # Read the TSV file\n",
    "    data = pd.read_csv(input_file, sep=\"\\t\", header=0)\n",
    "    total_rows = len(data)\n",
    "    \n",
    "    # Determine number of rows to keep (first 10%)\n",
    "    n_rows = int(total_rows * fraction)\n",
    "    mini_data = data.iloc[:n_rows, :]\n",
    "    \n",
    "    # Save the mini dataset as a TSV file\n",
    "    mini_data.to_csv(output_file, sep=\"\\t\", index=False)\n",
    "    print(f\"Saved {n_rows} rows out of {total_rows} to {output_file}\")\n",
    "\n",
    "if __name__ == '__main__':\n",
    "    # Define input and output file names\n",
    "    input_file = \"/home/workspaces/polimikel/data/UCR_dataset/Wafer/Wafer_TRAIN.tsv\"         # Change this if needed\n",
    "    output_file = \"/home/workspaces/polimikel/data/UCR_dataset/Wafer/Wafer_TRAIN_mini.tsv\"     # The output file\n",
    "    create_mini_tsv(input_file, output_file, fraction=0.1)\n"
   ]
  },
  {
   "cell_type": "code",
   "execution_count": 2,
   "metadata": {},
   "outputs": [
    {
     "name": "stdout",
     "output_type": "stream",
     "text": [
      "File '/home/workspaces/polimikel/data/UCR_dataset/Wafer/Wafer_TRAIN.tsv' dimensions: 999 rows, 153 columns\n",
      "File '/home/workspaces/polimikel/data/UCR_dataset/Wafer/Wafer_TRAIN_mini.tsv' dimensions: 99 rows, 153 columns\n"
     ]
    }
   ],
   "source": [
    "#!/usr/bin/env python\n",
    "import os\n",
    "import pandas as pd\n",
    "\n",
    "def analyze_tsv(file_path):\n",
    "    \"\"\"\n",
    "    Loads a TSV file and returns its dimensions (rows, columns).\n",
    "    \n",
    "    Parameters:\n",
    "      file_path (str): Path to the TSV file.\n",
    "    \n",
    "    Returns:\n",
    "      tuple: (number of rows, number of columns)\n",
    "    \"\"\"\n",
    "    try:\n",
    "        df = pd.read_csv(file_path, sep=\"\\t\", header=0)\n",
    "        return df.shape\n",
    "    except Exception as e:\n",
    "        print(f\"Error loading {file_path}: {e}\")\n",
    "        return None\n",
    "\n",
    "def main():\n",
    "    # Define the file paths (adjust if needed)\n",
    "    full_file = \"/home/workspaces/polimikel/data/UCR_dataset/Wafer/Wafer_TRAIN.tsv\" \n",
    "    mini_file = \"/home/workspaces/polimikel/data/UCR_dataset/Wafer/Wafer_TRAIN_mini.tsv\"  \n",
    "    \n",
    "    # Analyze full TSV file\n",
    "    if os.path.exists(full_file):\n",
    "        full_shape = analyze_tsv(full_file)\n",
    "        if full_shape:\n",
    "            print(f\"File '{full_file}' dimensions: {full_shape[0]} rows, {full_shape[1]} columns\")\n",
    "    else:\n",
    "        print(f\"File not found: {full_file}\")\n",
    "    \n",
    "    # Analyze mini TSV file\n",
    "    if os.path.exists(mini_file):\n",
    "        mini_shape = analyze_tsv(mini_file)\n",
    "        if mini_shape:\n",
    "            print(f\"File '{mini_file}' dimensions: {mini_shape[0]} rows, {mini_shape[1]} columns\")\n",
    "    else:\n",
    "        print(f\"File not found: {mini_file}\")\n",
    "\n",
    "if __name__ == \"__main__\":\n",
    "    main()\n"
   ]
  }
 ],
 "metadata": {
  "kernelspec": {
   "display_name": "PyTorch",
   "language": "python",
   "name": "python3"
  },
  "language_info": {
   "codemirror_mode": {
    "name": "ipython",
    "version": 3
   },
   "file_extension": ".py",
   "mimetype": "text/x-python",
   "name": "python",
   "nbconvert_exporter": "python",
   "pygments_lexer": "ipython3",
   "version": "3.10.13"
  }
 },
 "nbformat": 4,
 "nbformat_minor": 2
}
