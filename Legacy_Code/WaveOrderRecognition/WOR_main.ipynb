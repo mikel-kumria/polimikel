{
 "cells": [
  {
   "cell_type": "markdown",
   "metadata": {},
   "source": [
    "# CODE"
   ]
  },
  {
   "cell_type": "markdown",
   "metadata": {},
   "source": [
    "### Imports"
   ]
  },
  {
   "cell_type": "code",
   "execution_count": 9,
   "metadata": {},
   "outputs": [
    {
     "name": "stdout",
     "output_type": "stream",
     "text": [
      "Device: cpu\n"
     ]
    }
   ],
   "source": [
    "import os\n",
    "import json\n",
    "import random\n",
    "from datetime import datetime\n",
    "\n",
    "import numpy as np\n",
    "import torch\n",
    "from torch import nn\n",
    "import torch.nn.functional as F\n",
    "import snntorch as snn\n",
    "import optuna\n",
    "import tqdm.notebook as tqdm\n",
    "\n",
    "from WOR_dataset import Wave_Order_Dataset, split_dataset, get_dataloaders\n",
    "from trial_dataset import *\n",
    "from WOR_plot import (plot_wave, plot_accuracies, plot_loss_curve, plot_metrics, \n",
    "                      plot_equal_prediction_values, plot_beta_values, plot_tau_values, \n",
    "                      plot_layer_weights, plot_spike_counts, plot_snn_spikes, \n",
    "                      plot_membrane_potentials, plot_threshold_potentials)\n",
    "from WOR_train_val_test import train_model, validate_model, test_model\n",
    "\n",
    "def set_seed(seed):\n",
    "    random.seed(seed)\n",
    "    np.random.seed(seed)\n",
    "    torch.manual_seed(seed)\n",
    "    if torch.cuda.is_available():\n",
    "        torch.cuda.manual_seed_all(seed)\n",
    "\n",
    "device = 'cuda' if torch.cuda.is_available() else 'cpu'\n",
    "print(f\"Device: {device}\")"
   ]
  },
  {
   "cell_type": "markdown",
   "metadata": {},
   "source": [
    "### Hyperparameters"
   ]
  },
  {
   "cell_type": "code",
   "execution_count": 10,
   "metadata": {},
   "outputs": [],
   "source": [
    "hyperparams = {\n",
    "    \"seed\": 42,\n",
    "    \"std_dev\": 0.0,\n",
    "    \"num_samples\": 1000,\n",
    "    \"train_ratio\": 0.7,\n",
    "    \"validation_ratio\": 0.2,\n",
    "    \"test_ratio\": 0.1,\n",
    "    \"freq_min\": 2,\n",
    "    \"freq_max\": 2,\n",
    "    \"amp_min\": 1.1,\n",
    "    \"amp_max\": 1.1,\n",
    "    \"offset\": 1.1,\n",
    "    \"sample_rate\": 40,       # NOTE: Change this along with freq_max to avoid aliasing.\n",
    "    \"duration\": 3,\n",
    "    \"input_size\": 1,\n",
    "    \"hidden_size\": 8,\n",
    "    \"output_size\": 2,\n",
    "    \"optimizer_betas\": (0.99, 0.999),\n",
    "    \"scheduler_step_size\": 30,\n",
    "    \"scheduler_gamma\": 0.5,\n",
    "    \"L1_lambda\": 0.001,\n",
    "    \"N_hidden_weights_gaussian\": 30,\n",
    "    \"N_output_weights_gaussian\": 1,\n",
    "    \"hidden_reset_mechanism\": 'zero',\n",
    "    \"output_reset_mechanism\": 'zero',\n",
    "    \"weights_hidden_min_clamped\": -3.0,\n",
    "    \"weights_hidden_max_clamped\": 3.0,\n",
    "    \"weights_output_min_clamped\": -3.0,\n",
    "    \"weights_output_max_clamped\": 3.0,\n",
    "    #\"N_hidden_tau\": 0.1,\n",
    "    #\"N_output_tau\": 0.1,\n",
    "    \"beta_hidden\": 0.8,\n",
    "    \"beta_output\": 0.1,\n",
    "    \"learn_threshold_hidden\": True,\n",
    "    \"learn_threshold_output\": True,\n",
    "    \"learn_beta_hidden\": True,\n",
    "    \"learn_beta_output\": True,\n",
    "    \"phase1\": \"random_uniform_0_to_2pi\",\n",
    "    \"phase2\": \"random_uniform_0_to_2pi\",\n",
    "    \"learning_rate\": 0.02,\n",
    "    \"threshold_hidden_min\": 1.0,\n",
    "    \"threshold_hidden_max\": 1.1,\n",
    "    \"threshold_output_min\": 1.1,\n",
    "    \"threshold_output_max\": 1.2,\n",
    "    \"penalty_weight\": 0.0,\n",
    "    \"num_epochs\": 50,\n",
    "    \"batch_size\": 32,\n",
    "    \"sigmoid_slope\": 20,\n",
    "}"
   ]
  },
  {
   "cell_type": "markdown",
   "metadata": {},
   "source": [
    "### WOR Model Definition"
   ]
  },
  {
   "cell_type": "code",
   "execution_count": 11,
   "metadata": {},
   "outputs": [],
   "source": [
    "class Wave_Order_Recognition_SNN(nn.Module):\n",
    "    def __init__(self, hyperparams):\n",
    "        super().__init__()\n",
    "        hidden_size = hyperparams[\"hidden_size\"]\n",
    "        output_size = hyperparams[\"output_size\"]\n",
    "        input_size = hyperparams[\"input_size\"]\n",
    "        sample_rate = hyperparams[\"sample_rate\"]\n",
    "        duration = hyperparams[\"duration\"]\n",
    "        deltaT = 1 / sample_rate\n",
    "        self.num_steps = int(duration / deltaT)\n",
    "        \n",
    "        # tau and beta values for hidden and output layers\n",
    "        beta_hidden = torch.full((hidden_size,), hyperparams[\"beta_hidden\"])\n",
    "        beta_output = torch.full((output_size,), hyperparams[\"beta_output\"])\n",
    "\n",
    "        tau_hidden = -deltaT / torch.log(beta_hidden)\n",
    "        tau_output = -deltaT / torch.log(beta_output)\n",
    "        \n",
    "        # thresholds: tuned for the hidden layer, fixed range for output\n",
    "        threshold_hidden = np.random.uniform(\n",
    "            hyperparams[\"threshold_hidden_min\"],\n",
    "            hyperparams[\"threshold_hidden_max\"],\n",
    "            hidden_size\n",
    "        )\n",
    "        threshold_output = np.random.uniform(\n",
    "            hyperparams[\"threshold_output_min\"],\n",
    "            hyperparams[\"threshold_output_max\"],\n",
    "            output_size)\n",
    "        \n",
    "        # Gaussian initialization parameters for weights.\n",
    "        # N_hidden_weights_gaussian = hyperparams[\"N_hidden_weights_gaussian\"]\n",
    "        # N_output_weights_gaussian = hyperparams[\"N_output_weights_gaussian\"]\n",
    "        # N_hidden_weights_std = np.sqrt(N_hidden_weights_gaussian)\n",
    "        # N_output_weights_std = np.sqrt(N_output_weights_gaussian)\n",
    "        # gaussian_mean_hidden_weights = N_hidden_weights_gaussian / sample_rate\n",
    "        # gaussian_std_hidden_weights = N_hidden_weights_std / sample_rate\n",
    "        # gaussian_mean_output_weights = N_output_weights_gaussian / (sample_rate * hidden_size)\n",
    "        # gaussian_std_output_weights = N_output_weights_std / (sample_rate * hidden_size)\n",
    "        \n",
    "        self.fc1 = nn.Linear(input_size, hidden_size, bias=False)\n",
    "        self.lif1 = snn.Leaky(\n",
    "            beta=beta_hidden,\n",
    "            threshold=threshold_hidden,\n",
    "            learn_beta=hyperparams[\"learn_beta_hidden\"],\n",
    "            learn_threshold=hyperparams[\"learn_threshold_hidden\"],\n",
    "            reset_mechanism=hyperparams[\"hidden_reset_mechanism\"],\n",
    "            reset_delay=False,\n",
    "            spike_grad= snn.surrogate.fast_sigmoid(slope=hyperparams[\"sigmoid_slope\"])\n",
    "        )\n",
    "        self.fc2 = nn.Linear(hidden_size, output_size, bias=False)\n",
    "        self.lif2 = snn.Leaky(\n",
    "            beta=beta_output,\n",
    "            threshold=threshold_output,\n",
    "            learn_beta=hyperparams[\"learn_beta_output\"],\n",
    "            learn_threshold=hyperparams[\"learn_threshold_output\"],\n",
    "            reset_mechanism=hyperparams[\"output_reset_mechanism\"],\n",
    "            reset_delay=False,\n",
    "            spike_grad= snn.surrogate.fast_sigmoid(slope=hyperparams[\"sigmoid_slope\"])\n",
    "\n",
    "        )\n",
    "        # For Gaussian initialization\n",
    "        # self._initialize_weights(\n",
    "        #     gaussian_mean_hidden_weights, gaussian_std_hidden_weights,\n",
    "        #     gaussian_mean_output_weights, gaussian_std_output_weights\n",
    "        # )\n",
    "        # For Xavier initialization\n",
    "        self._initialize_weights()\n",
    "    \n",
    "    # Normal initialization\n",
    "    # def _initialize_weights(self, mean_hidden, std_hidden, mean_output, std_output):\n",
    "    #     nn.init.normal_(self.fc1.weight, mean=mean_hidden, std=std_hidden)\n",
    "    #     nn.init.normal_(self.fc2.weight, mean=mean_output, std=std_output)\n",
    "\n",
    "    # Xavier initialization\n",
    "    def _initialize_weights(self):\n",
    "        nn.init.xavier_uniform_(self.fc1.weight)\n",
    "        nn.init.xavier_uniform_(self.fc2.weight)\n",
    "\n",
    "    \n",
    "    def forward(self, x, mem1=None, mem2=None):\n",
    "        batch_size = x.size(0)\n",
    "        if mem1 is None:\n",
    "            mem1 = torch.zeros(batch_size, self.fc1.out_features, device=x.device)\n",
    "        if mem2 is None:\n",
    "            mem2 = torch.zeros(batch_size, self.fc2.out_features, device=x.device)\n",
    "        \n",
    "        spk1_rec, mem1_rec, spk2_rec, mem2_rec = [], [], [], []\n",
    "        hidden_spike_count = 0\n",
    "        output_spike_count = 0\n",
    "        \n",
    "        for step in range(self.num_steps):\n",
    "            cur1 = self.fc1(x[:, step].unsqueeze(1))\n",
    "            spk1, mem1 = self.lif1(cur1, mem1)\n",
    "            cur2 = self.fc2(spk1)\n",
    "            spk2, mem2 = self.lif2(cur2, mem2)\n",
    "            \n",
    "            spk1_rec.append(spk1)\n",
    "            mem1_rec.append(mem1)\n",
    "            spk2_rec.append(spk2)\n",
    "            mem2_rec.append(mem2)\n",
    "            \n",
    "            hidden_spike_count += spk1.sum().item()\n",
    "            output_spike_count += spk2.sum().item()\n",
    "        \n",
    "        return (torch.stack(spk1_rec, dim=0),\n",
    "                torch.stack(mem1_rec, dim=0),\n",
    "                torch.stack(spk2_rec, dim=0),\n",
    "                torch.stack(mem2_rec, dim=0),\n",
    "                hidden_spike_count,\n",
    "                output_spike_count)"
   ]
  },
  {
   "cell_type": "markdown",
   "metadata": {},
   "source": [
    "### Optuna Objective for HPO"
   ]
  },
  {
   "cell_type": "code",
   "execution_count": 12,
   "metadata": {},
   "outputs": [],
   "source": [
    "def objective(trial):\n",
    "    # Override a few hyperparameters using trial suggestions.\n",
    "    #hyperparams[\"learning_rate\"] = trial.suggest_float(\"learning_rate\", 1e-4, 1e-1, log=True)\n",
    "    #hyperparams[\"sigmoid_slope\"] = trial.suggest_float(\"sigmoid_slope\", 3, 30)\n",
    "    hyperparams[\"threshold_hidden_min\"] = trial.suggest_float(\"threshold_hidden_min\", 0.3, 0.5)\n",
    "    hyperparams[\"threshold_hidden_max\"] = trial.suggest_float(\"threshold_hidden_max\", 2.9, 3)\n",
    "    hyperparams[\"beta_hidden\"] = trial.suggest_float(\"beta_hidden\", 0.7, 0.9)\n",
    "    hyperparams[\"threshold_output_min\"] = trial.suggest_float(\"threshold_output_min\", 0.3, 0.5)\n",
    "    hyperparams[\"threshold_output_max\"] = trial.suggest_float(\"threshold_output_max\", 8, 10)\n",
    "    hyperparams[\"beta_output\"] = trial.suggest_float(\"beta_output\", 0.01, 0.4)\n",
    "    # # Create dataset and dataloaders.\n",
    "    # dataset = Wave_Order_Dataset(\n",
    "    #     hyperparams[\"num_samples\"],\n",
    "    #     hyperparams[\"sample_rate\"],\n",
    "    #     hyperparams[\"duration\"],\n",
    "    #     hyperparams[\"freq_min\"],\n",
    "    #     hyperparams[\"freq_max\"],\n",
    "    #     hyperparams[\"amp_min\"],\n",
    "    #     hyperparams[\"amp_max\"],\n",
    "    #     hyperparams[\"std_dev\"],\n",
    "    #     hyperparams[\"offset\"]\n",
    "    # )\n",
    "\n",
    "    dataset = ConcatenatedWaveDataset(\n",
    "        num_samples=hyperparams[\"num_samples\"],\n",
    "        sample_rate=hyperparams[\"sample_rate\"],\n",
    "        duration=hyperparams[\"duration\"],  # duration of each wave segment\n",
    "        frequency=2.0,\n",
    "        amplitude=1.0,\n",
    "        std_dev=hyperparams[\"std_dev\"],\n",
    "        offset=hyperparams[\"offset\"]\n",
    "    )\n",
    "\n",
    "\n",
    "    train_dataset, validation_dataset, _ = split_dataset(\n",
    "        dataset,\n",
    "        hyperparams[\"train_ratio\"],\n",
    "        hyperparams[\"validation_ratio\"],\n",
    "        hyperparams[\"test_ratio\"]\n",
    "    )\n",
    "    train_loader, validation_loader, _ = get_dataloaders(\n",
    "        train_dataset, validation_dataset, [], hyperparams[\"batch_size\"]\n",
    "    )\n",
    "    \n",
    "    # Instantiate model, loss, optimizer, and scheduler.\n",
    "    model = Wave_Order_Recognition_SNN(hyperparams).to(device)\n",
    "    criterion = nn.CrossEntropyLoss()\n",
    "    optimizer = torch.optim.Adamax(model.parameters(), lr=hyperparams[\"learning_rate\"],\n",
    "                                   betas=hyperparams[\"optimizer_betas\"])\n",
    "    scheduler = torch.optim.lr_scheduler.StepLR(optimizer,\n",
    "                                                step_size=hyperparams[\"scheduler_step_size\"],\n",
    "                                                gamma=hyperparams[\"scheduler_gamma\"])\n",
    "    \n",
    "    # Run a short training loop for HPO (using fewer epochs for speed).\n",
    "    num_epochs = hyperparams[\"num_epochs\"] // 10\n",
    "    for epoch in range(num_epochs):\n",
    "        train_loss, _, _, _, _, _, _= train_model(model, train_loader, criterion, optimizer,\n",
    "                                             epoch, num_epochs, hyperparams[\"batch_size\"],\n",
    "                                             hyperparams[\"hidden_size\"], hyperparams[\"output_size\"],\n",
    "                                             hyperparams[\"weights_hidden_min_clamped\"],\n",
    "                                             hyperparams[\"weights_hidden_max_clamped\"],\n",
    "                                             hyperparams[\"weights_output_min_clamped\"],\n",
    "                                             hyperparams[\"weights_output_max_clamped\"],\n",
    "                                             hyperparams[\"penalty_weight\"],\n",
    "                                             hyperparams[\"L1_lambda\"], device)\n",
    "        val_accuracy, val_loss = validate_model(model, validation_loader, criterion, device)\n",
    "        scheduler.step()\n",
    "        if epoch % 5 == 0:\n",
    "            print(f\"Trial {trial.number} Epoch {epoch}: Val Acc {val_accuracy:.2f}% Loss {val_loss:.4f}\")\n",
    "    \n",
    "    # validation accuracy (metric to maximize)\n",
    "    return val_accuracy"
   ]
  },
  {
   "cell_type": "markdown",
   "metadata": {},
   "source": [
    "### Full Training Run (after HPO)"
   ]
  },
  {
   "cell_type": "code",
   "execution_count": 13,
   "metadata": {},
   "outputs": [],
   "source": [
    "def run_training(hyperparams):\n",
    "    set_seed(hyperparams[\"seed\"])\n",
    "    device = 'cuda' if torch.cuda.is_available() else 'cpu'\n",
    "    print(f\"Device: {device}\")\n",
    "    \n",
    "    # Folder for saving outputs.\n",
    "    now = datetime.now()\n",
    "    output_folder = os.path.join(os.getcwd(), \"thesis_simulations\", now.strftime(\"run_%Y%m%d_%H%M%S\"))\n",
    "    os.makedirs(output_folder, exist_ok=True)\n",
    "    \n",
    "    # dataset = Wave_Order_Dataset(\n",
    "    #     hyperparams[\"num_samples\"],\n",
    "    #     hyperparams[\"sample_rate\"],\n",
    "    #     hyperparams[\"duration\"],\n",
    "    #     hyperparams[\"freq_min\"],\n",
    "    #     hyperparams[\"freq_max\"],\n",
    "    #     hyperparams[\"amp_min\"],\n",
    "    #     hyperparams[\"amp_max\"],\n",
    "    #     hyperparams[\"std_dev\"],\n",
    "    #     hyperparams[\"offset\"]\n",
    "    # )\n",
    "\n",
    "    dataset = ConcatenatedWaveDataset(\n",
    "        num_samples=hyperparams[\"num_samples\"],\n",
    "        sample_rate=hyperparams[\"sample_rate\"],\n",
    "        duration=hyperparams[\"duration\"],  # duration of each wave segment\n",
    "        frequency=2.0,\n",
    "        amplitude=1.0,\n",
    "        std_dev=hyperparams[\"std_dev\"],\n",
    "        offset=hyperparams[\"offset\"]\n",
    "    )\n",
    "\n",
    "\n",
    "\n",
    "    train_dataset, validation_dataset, test_dataset = split_dataset(\n",
    "        dataset,\n",
    "        hyperparams[\"train_ratio\"],\n",
    "        hyperparams[\"validation_ratio\"],\n",
    "        hyperparams[\"test_ratio\"]\n",
    "    )\n",
    "    train_loader, validation_loader, test_loader = get_dataloaders(\n",
    "        train_dataset, validation_dataset, test_dataset, hyperparams[\"batch_size\"]\n",
    "    )\n",
    "    \n",
    "    # Instantiate model, loss, optimizer, and scheduler.\n",
    "    model = Wave_Order_Recognition_SNN(hyperparams).to(device)\n",
    "    criterion = nn.CrossEntropyLoss()\n",
    "    optimizer = torch.optim.Adamax(model.parameters(), lr=hyperparams[\"learning_rate\"],\n",
    "                                   betas=hyperparams[\"optimizer_betas\"])\n",
    "    scheduler = torch.optim.lr_scheduler.StepLR(optimizer,\n",
    "                                                step_size=hyperparams[\"scheduler_step_size\"],\n",
    "                                                gamma=hyperparams[\"scheduler_gamma\"])\n",
    "    \n",
    "    # Lists for recording metrics.\n",
    "    train_acc_list = []\n",
    "    train_loss_list = []\n",
    "    val_acc_list = []\n",
    "    val_loss_list = []\n",
    "    equal_prediction_values = []  # NEW list for equal prediction count\n",
    "    beta1_values = []\n",
    "    beta2_values = []\n",
    "    weights_hidden_layer = []\n",
    "    weights_output_layer = []\n",
    "    threshold_hidden_layer = []\n",
    "    threshold_output_layer = []\n",
    "    hidden_spike_count_list = []\n",
    "    output_spike_count_list = []\n",
    "    output_spike_counts_neuron0_list = []\n",
    "    output_spike_counts_neuron1_list = []\n",
    "    \n",
    "    num_epochs = hyperparams[\"num_epochs\"]\n",
    "    for epoch in range(num_epochs):\n",
    "        (train_loss, avg_hidden_spike, avg_output_spike, avg_out0,\n",
    "         avg_out1, avg_equal_pred, avg_train_accuracy) = train_model(model, train_loader, criterion, optimizer,\n",
    "                                                 epoch, num_epochs, hyperparams[\"batch_size\"],\n",
    "                                                 hyperparams[\"hidden_size\"], hyperparams[\"output_size\"],\n",
    "                                                 hyperparams[\"weights_hidden_min_clamped\"],\n",
    "                                                 hyperparams[\"weights_hidden_max_clamped\"],\n",
    "                                                 hyperparams[\"weights_output_min_clamped\"],\n",
    "                                                 hyperparams[\"weights_output_max_clamped\"],\n",
    "                                                 hyperparams[\"penalty_weight\"],\n",
    "                                                 hyperparams[\"L1_lambda\"], device)\n",
    "        val_accuracy, val_loss = validate_model(model, validation_loader, criterion, device)\n",
    "        scheduler.step()\n",
    "        \n",
    "        train_loss_list.append(train_loss)\n",
    "        train_acc_list.append(avg_train_accuracy)\n",
    "        val_acc_list.append(val_accuracy)\n",
    "        val_loss_list.append(val_loss)\n",
    "        equal_prediction_values.append(avg_equal_pred)\n",
    "        beta1_values.append(model.lif1.beta.detach().cpu().numpy().flatten())\n",
    "        beta2_values.append(model.lif2.beta.detach().cpu().numpy().flatten())\n",
    "        weights_hidden_layer.append(model.fc1.weight.detach().cpu().numpy().copy())\n",
    "        weights_output_layer.append(model.fc2.weight.detach().cpu().numpy().copy())\n",
    "        threshold_hidden_layer.append(model.lif1.threshold.detach().cpu().numpy().flatten())\n",
    "        threshold_output_layer.append(model.lif2.threshold.detach().cpu().numpy().flatten())\n",
    "        hidden_spike_count_list.append(avg_hidden_spike)\n",
    "        output_spike_count_list.append(avg_output_spike)\n",
    "        output_spike_counts_neuron0_list.append(avg_out0)\n",
    "        output_spike_counts_neuron1_list.append(avg_out1)\n",
    "        \n",
    "        print(f\"Epoch {epoch+1}/{num_epochs}: Val Acc = {val_accuracy:.2f}% | Val Loss = {val_loss:.4f}\")\n",
    "    \n",
    "    # Evaluate on test data.\n",
    "    test_metrics = test_model(model, test_loader, criterion, device)\n",
    "    print(\"Test Metrics:\")\n",
    "    print(test_metrics)\n",
    "    \n",
    "    # Save final model.\n",
    "    model_save_path = os.path.join(output_folder, \"final_model.pth\")\n",
    "    torch.save(model.state_dict(), model_save_path)\n",
    "    print(f\"Model saved to {model_save_path}\")\n",
    "    \n",
    "    # Return dictionary with all recorded metrics.\n",
    "    return {\n",
    "        \"output_folder\": output_folder,\n",
    "        \"train_loader\": train_loader,\n",
    "        \"validation_loader\": validation_loader,\n",
    "        \"test_loader\": test_loader,\n",
    "        \"model\": model,\n",
    "        \"test_metrics\": test_metrics,\n",
    "        \"num_epochs\": num_epochs,\n",
    "        \"deltaT\": 1 / hyperparams[\"sample_rate\"],\n",
    "        \"train_loss_list\": train_loss_list,\n",
    "        \"val_acc_list\": val_acc_list,\n",
    "        \"val_loss_list\": val_loss_list,\n",
    "        \"equal_prediction_values\": equal_prediction_values,\n",
    "        \"beta1_values\": beta1_values,\n",
    "        \"beta2_values\": beta2_values,\n",
    "        \"weights_hidden_layer\": weights_hidden_layer,\n",
    "        \"weights_output_layer\": weights_output_layer,\n",
    "        \"threshold_hidden_layer\": threshold_hidden_layer,\n",
    "        \"threshold_output_layer\": threshold_output_layer,\n",
    "        \"hidden_spike_count_list\": hidden_spike_count_list,\n",
    "        \"output_spike_count_list\": output_spike_count_list,\n",
    "        \"output_spike_counts_neuron0_list\": output_spike_counts_neuron0_list,\n",
    "        \"output_spike_counts_neuron1_list\": output_spike_counts_neuron1_list,\n",
    "    }"
   ]
  },
  {
   "cell_type": "markdown",
   "metadata": {},
   "source": [
    "### 'mode' Selection and Execution"
   ]
  },
  {
   "cell_type": "code",
   "execution_count": 14,
   "metadata": {},
   "outputs": [
    {
     "name": "stderr",
     "output_type": "stream",
     "text": [
      "[I 2025-02-18 15:56:29,909] A new study created in memory with name: no-name-14c76b43-3f89-46e4-baf1-aaa80df8477b\n"
     ]
    },
    {
     "name": "stdout",
     "output_type": "stream",
     "text": [
      "Trial 0 Epoch 0: Val Acc 54.50% Loss 0.6931\n"
     ]
    },
    {
     "name": "stderr",
     "output_type": "stream",
     "text": [
      "[I 2025-02-18 15:56:35,572] Trial 0 finished with value: 52.0 and parameters: {'threshold_hidden_min': 0.4555448339732601, 'threshold_hidden_max': 2.990079160717714, 'beta_hidden': 0.769333644372323, 'threshold_output_min': 0.35100843783930713, 'threshold_output_max': 8.986913365244511, 'beta_output': 0.2301136991768539}. Best is trial 0 with value: 52.0.\n"
     ]
    },
    {
     "name": "stdout",
     "output_type": "stream",
     "text": [
      "Trial 1 Epoch 0: Val Acc 47.50% Loss 0.6931\n"
     ]
    },
    {
     "name": "stderr",
     "output_type": "stream",
     "text": [
      "[I 2025-02-18 15:56:41,041] Trial 1 finished with value: 74.5 and parameters: {'threshold_hidden_min': 0.48981136519815655, 'threshold_hidden_max': 2.9577196055056723, 'beta_hidden': 0.7811638741654722, 'threshold_output_min': 0.3690001879918385, 'threshold_output_max': 8.92732003149354, 'beta_output': 0.015532513718298394}. Best is trial 1 with value: 74.5.\n"
     ]
    },
    {
     "name": "stdout",
     "output_type": "stream",
     "text": [
      "Trial 2 Epoch 0: Val Acc 53.50% Loss 0.6931\n"
     ]
    },
    {
     "name": "stderr",
     "output_type": "stream",
     "text": [
      "[I 2025-02-18 15:56:46,544] Trial 2 finished with value: 51.0 and parameters: {'threshold_hidden_min': 0.3160744458350802, 'threshold_hidden_max': 2.974980313261154, 'beta_hidden': 0.8586935147050384, 'threshold_output_min': 0.30298275846479605, 'threshold_output_max': 9.103846934400051, 'beta_output': 0.12056244153781245}. Best is trial 1 with value: 74.5.\n"
     ]
    },
    {
     "name": "stdout",
     "output_type": "stream",
     "text": [
      "Trial 3 Epoch 0: Val Acc 52.00% Loss 0.6931\n"
     ]
    },
    {
     "name": "stderr",
     "output_type": "stream",
     "text": [
      "[I 2025-02-18 15:56:51,992] Trial 3 finished with value: 50.0 and parameters: {'threshold_hidden_min': 0.3513671456198992, 'threshold_hidden_max': 2.9263477154058144, 'beta_hidden': 0.8391334859551453, 'threshold_output_min': 0.342197610942047, 'threshold_output_max': 9.567753948070054, 'beta_output': 0.15426169034581766}. Best is trial 1 with value: 74.5.\n"
     ]
    },
    {
     "name": "stdout",
     "output_type": "stream",
     "text": [
      "Trial 4 Epoch 0: Val Acc 54.00% Loss 0.6931\n"
     ]
    },
    {
     "name": "stderr",
     "output_type": "stream",
     "text": [
      "[I 2025-02-18 15:56:57,503] Trial 4 finished with value: 45.0 and parameters: {'threshold_hidden_min': 0.41068929093212114, 'threshold_hidden_max': 2.9021741236826646, 'beta_hidden': 0.8211167089101759, 'threshold_output_min': 0.45877497437951825, 'threshold_output_max': 9.992466980173539, 'beta_output': 0.2538477527964121}. Best is trial 1 with value: 74.5.\n"
     ]
    },
    {
     "name": "stdout",
     "output_type": "stream",
     "text": [
      "Trial 5 Epoch 0: Val Acc 53.00% Loss 0.6931\n"
     ]
    },
    {
     "name": "stderr",
     "output_type": "stream",
     "text": [
      "[I 2025-02-18 15:57:03,026] Trial 5 finished with value: 72.0 and parameters: {'threshold_hidden_min': 0.3893965274874007, 'threshold_hidden_max': 2.9722791217350624, 'beta_hidden': 0.8913114065384155, 'threshold_output_min': 0.46766817835540436, 'threshold_output_max': 8.077712618229192, 'beta_output': 0.21663820384381682}. Best is trial 1 with value: 74.5.\n"
     ]
    },
    {
     "name": "stdout",
     "output_type": "stream",
     "text": [
      "Trial 6 Epoch 0: Val Acc 55.50% Loss 0.6931\n"
     ]
    },
    {
     "name": "stderr",
     "output_type": "stream",
     "text": [
      "[I 2025-02-18 15:57:08,440] Trial 6 finished with value: 53.0 and parameters: {'threshold_hidden_min': 0.43997578510011215, 'threshold_hidden_max': 2.990810455052194, 'beta_hidden': 0.8224543553550646, 'threshold_output_min': 0.36180908280687973, 'threshold_output_max': 9.886536795542394, 'beta_output': 0.24945674726826447}. Best is trial 1 with value: 74.5.\n"
     ]
    },
    {
     "name": "stdout",
     "output_type": "stream",
     "text": [
      "Trial 7 Epoch 0: Val Acc 49.00% Loss 0.6931\n"
     ]
    },
    {
     "name": "stderr",
     "output_type": "stream",
     "text": [
      "[I 2025-02-18 15:57:13,952] Trial 7 finished with value: 48.0 and parameters: {'threshold_hidden_min': 0.40438268263353605, 'threshold_hidden_max': 2.972596079808052, 'beta_hidden': 0.7407479521454469, 'threshold_output_min': 0.36952841254840163, 'threshold_output_max': 9.926889873395886, 'beta_output': 0.24745609888093517}. Best is trial 1 with value: 74.5.\n"
     ]
    },
    {
     "name": "stdout",
     "output_type": "stream",
     "text": [
      "Trial 8 Epoch 0: Val Acc 47.50% Loss 0.6931\n"
     ]
    },
    {
     "name": "stderr",
     "output_type": "stream",
     "text": [
      "[I 2025-02-18 15:57:19,388] Trial 8 finished with value: 47.5 and parameters: {'threshold_hidden_min': 0.4472683142329077, 'threshold_hidden_max': 2.9599488907482403, 'beta_hidden': 0.8208580932859452, 'threshold_output_min': 0.31170776567506514, 'threshold_output_max': 9.554915495704845, 'beta_output': 0.12449556791266886}. Best is trial 1 with value: 74.5.\n"
     ]
    },
    {
     "name": "stdout",
     "output_type": "stream",
     "text": [
      "Trial 9 Epoch 0: Val Acc 53.00% Loss 0.6931\n"
     ]
    },
    {
     "name": "stderr",
     "output_type": "stream",
     "text": [
      "[I 2025-02-18 15:57:24,890] Trial 9 finished with value: 47.5 and parameters: {'threshold_hidden_min': 0.4596037274337244, 'threshold_hidden_max': 2.9274128914798974, 'beta_hidden': 0.7201600617574099, 'threshold_output_min': 0.37105235256419966, 'threshold_output_max': 9.439666324270425, 'beta_output': 0.15556078367444384}. Best is trial 1 with value: 74.5.\n"
     ]
    },
    {
     "name": "stdout",
     "output_type": "stream",
     "text": [
      "Trial 10 Epoch 0: Val Acc 61.50% Loss 0.6931\n"
     ]
    },
    {
     "name": "stderr",
     "output_type": "stream",
     "text": [
      "[I 2025-02-18 15:57:30,448] Trial 10 finished with value: 48.5 and parameters: {'threshold_hidden_min': 0.4967086530085284, 'threshold_hidden_max': 2.9408310939953877, 'beta_hidden': 0.7774381705521448, 'threshold_output_min': 0.4151042463238007, 'threshold_output_max': 8.398951643415886, 'beta_output': 0.010404560720370609}. Best is trial 1 with value: 74.5.\n"
     ]
    },
    {
     "name": "stdout",
     "output_type": "stream",
     "text": [
      "Trial 11 Epoch 0: Val Acc 45.50% Loss 0.6931\n"
     ]
    },
    {
     "name": "stderr",
     "output_type": "stream",
     "text": [
      "[I 2025-02-18 15:57:36,006] Trial 11 finished with value: 50.5 and parameters: {'threshold_hidden_min': 0.3694191587497736, 'threshold_hidden_max': 2.958038158891733, 'beta_hidden': 0.8995964531228454, 'threshold_output_min': 0.4964038440534951, 'threshold_output_max': 8.032862662767071, 'beta_output': 0.3647885427693973}. Best is trial 1 with value: 74.5.\n"
     ]
    },
    {
     "name": "stdout",
     "output_type": "stream",
     "text": [
      "Trial 12 Epoch 0: Val Acc 50.00% Loss 0.6931\n"
     ]
    },
    {
     "name": "stderr",
     "output_type": "stream",
     "text": [
      "[I 2025-02-18 15:57:41,397] Trial 12 finished with value: 46.0 and parameters: {'threshold_hidden_min': 0.36568916548058883, 'threshold_hidden_max': 2.9693334517111247, 'beta_hidden': 0.889275043702233, 'threshold_output_min': 0.42240709695918877, 'threshold_output_max': 8.553757741415916, 'beta_output': 0.016073281265293726}. Best is trial 1 with value: 74.5.\n"
     ]
    },
    {
     "name": "stdout",
     "output_type": "stream",
     "text": [
      "Trial 13 Epoch 0: Val Acc 50.00% Loss 0.6931\n"
     ]
    },
    {
     "name": "stderr",
     "output_type": "stream",
     "text": [
      "[I 2025-02-18 15:57:46,738] Trial 13 finished with value: 52.0 and parameters: {'threshold_hidden_min': 0.49551527966166214, 'threshold_hidden_max': 2.9439224010507794, 'beta_hidden': 0.784890834027453, 'threshold_output_min': 0.45282653496981023, 'threshold_output_max': 8.014363797062856, 'beta_output': 0.3515674461917501}. Best is trial 1 with value: 74.5.\n"
     ]
    },
    {
     "name": "stdout",
     "output_type": "stream",
     "text": [
      "Trial 14 Epoch 0: Val Acc 51.00% Loss 0.6931\n"
     ]
    },
    {
     "name": "stderr",
     "output_type": "stream",
     "text": [
      "[I 2025-02-18 15:57:52,138] Trial 14 finished with value: 49.5 and parameters: {'threshold_hidden_min': 0.3863752083876713, 'threshold_hidden_max': 2.9848709765650554, 'beta_hidden': 0.7476050193436269, 'threshold_output_min': 0.40215762651452286, 'threshold_output_max': 8.656714739856163, 'beta_output': 0.07553620102245294}. Best is trial 1 with value: 74.5.\n"
     ]
    },
    {
     "name": "stdout",
     "output_type": "stream",
     "text": [
      "Trial 15 Epoch 0: Val Acc 43.00% Loss 0.6931\n"
     ]
    },
    {
     "name": "stderr",
     "output_type": "stream",
     "text": [
      "[I 2025-02-18 15:57:57,508] Trial 15 finished with value: 48.0 and parameters: {'threshold_hidden_min': 0.3305234619512195, 'threshold_hidden_max': 2.9992867861822083, 'beta_hidden': 0.8554209863937892, 'threshold_output_min': 0.4988448212230704, 'threshold_output_max': 8.913505141057117, 'beta_output': 0.29492587691314237}. Best is trial 1 with value: 74.5.\n"
     ]
    },
    {
     "name": "stdout",
     "output_type": "stream",
     "text": [
      "Trial 16 Epoch 0: Val Acc 51.50% Loss 0.6931\n"
     ]
    },
    {
     "name": "stderr",
     "output_type": "stream",
     "text": [
      "[I 2025-02-18 15:58:02,924] Trial 16 finished with value: 76.0 and parameters: {'threshold_hidden_min': 0.4204354170752238, 'threshold_hidden_max': 2.955330544129059, 'beta_hidden': 0.7985438078463258, 'threshold_output_min': 0.44339858132250215, 'threshold_output_max': 8.221695175252133, 'beta_output': 0.18897113896431714}. Best is trial 16 with value: 76.0.\n"
     ]
    },
    {
     "name": "stdout",
     "output_type": "stream",
     "text": [
      "Trial 17 Epoch 0: Val Acc 46.00% Loss 0.6931\n"
     ]
    },
    {
     "name": "stderr",
     "output_type": "stream",
     "text": [
      "[I 2025-02-18 15:58:08,266] Trial 17 finished with value: 54.5 and parameters: {'threshold_hidden_min': 0.4234652585200673, 'threshold_hidden_max': 2.9315982156731386, 'beta_hidden': 0.8053355174361456, 'threshold_output_min': 0.437116589022566, 'threshold_output_max': 8.247062456298835, 'beta_output': 0.07615087159068579}. Best is trial 16 with value: 76.0.\n"
     ]
    },
    {
     "name": "stdout",
     "output_type": "stream",
     "text": [
      "Trial 18 Epoch 0: Val Acc 49.50% Loss 0.6931\n"
     ]
    },
    {
     "name": "stderr",
     "output_type": "stream",
     "text": [
      "[I 2025-02-18 15:58:13,643] Trial 18 finished with value: 51.5 and parameters: {'threshold_hidden_min': 0.4809429847651465, 'threshold_hidden_max': 2.9525486937756225, 'beta_hidden': 0.7078597220744827, 'threshold_output_min': 0.3896595368493603, 'threshold_output_max': 8.721038579573088, 'beta_output': 0.31057426628195184}. Best is trial 16 with value: 76.0.\n"
     ]
    },
    {
     "name": "stdout",
     "output_type": "stream",
     "text": [
      "Trial 19 Epoch 0: Val Acc 57.50% Loss 0.6931\n"
     ]
    },
    {
     "name": "stderr",
     "output_type": "stream",
     "text": [
      "[I 2025-02-18 15:58:18,972] Trial 19 finished with value: 47.5 and parameters: {'threshold_hidden_min': 0.47381898185552257, 'threshold_hidden_max': 2.9067541922906583, 'beta_hidden': 0.7571063482943715, 'threshold_output_min': 0.39159351393097136, 'threshold_output_max': 9.207887347842188, 'beta_output': 0.04777271074311583}. Best is trial 16 with value: 76.0.\n"
     ]
    },
    {
     "name": "stdout",
     "output_type": "stream",
     "text": [
      "Trial 20 Epoch 0: Val Acc 50.00% Loss 0.6931\n"
     ]
    },
    {
     "name": "stderr",
     "output_type": "stream",
     "text": [
      "[I 2025-02-18 15:58:24,369] Trial 20 finished with value: 52.0 and parameters: {'threshold_hidden_min': 0.42643647054016015, 'threshold_hidden_max': 2.914762937051657, 'beta_hidden': 0.7993206273490489, 'threshold_output_min': 0.32398171326581987, 'threshold_output_max': 8.813396005619044, 'beta_output': 0.39427940318982146}. Best is trial 16 with value: 76.0.\n"
     ]
    },
    {
     "name": "stdout",
     "output_type": "stream",
     "text": [
      "Trial 21 Epoch 0: Val Acc 49.00% Loss 0.6931\n"
     ]
    },
    {
     "name": "stderr",
     "output_type": "stream",
     "text": [
      "[I 2025-02-18 15:58:29,688] Trial 21 finished with value: 78.0 and parameters: {'threshold_hidden_min': 0.38678318400776013, 'threshold_hidden_max': 2.963567903401012, 'beta_hidden': 0.8727528567242634, 'threshold_output_min': 0.46962964780358424, 'threshold_output_max': 8.28988723753193, 'beta_output': 0.18760493777290005}. Best is trial 21 with value: 78.0.\n"
     ]
    },
    {
     "name": "stdout",
     "output_type": "stream",
     "text": [
      "Trial 22 Epoch 0: Val Acc 51.50% Loss 0.6931\n"
     ]
    },
    {
     "name": "stderr",
     "output_type": "stream",
     "text": [
      "[I 2025-02-18 15:58:35,053] Trial 22 finished with value: 47.5 and parameters: {'threshold_hidden_min': 0.3761762093433105, 'threshold_hidden_max': 2.965346875998551, 'beta_hidden': 0.7950097022136099, 'threshold_output_min': 0.4726192965707693, 'threshold_output_max': 8.355410628096537, 'beta_output': 0.18248536551159256}. Best is trial 21 with value: 78.0.\n"
     ]
    },
    {
     "name": "stdout",
     "output_type": "stream",
     "text": [
      "Trial 23 Epoch 0: Val Acc 50.00% Loss 0.6931\n"
     ]
    },
    {
     "name": "stderr",
     "output_type": "stream",
     "text": [
      "[I 2025-02-18 15:58:40,360] Trial 23 finished with value: 58.5 and parameters: {'threshold_hidden_min': 0.3540067398331959, 'threshold_hidden_max': 2.9488186525015294, 'beta_hidden': 0.860906531257442, 'threshold_output_min': 0.4400836707597228, 'threshold_output_max': 8.49221903007847, 'beta_output': 0.17515436357701333}. Best is trial 21 with value: 78.0.\n"
     ]
    },
    {
     "name": "stdout",
     "output_type": "stream",
     "text": [
      "Trial 24 Epoch 0: Val Acc 49.00% Loss 0.6931\n"
     ]
    },
    {
     "name": "stderr",
     "output_type": "stream",
     "text": [
      "[I 2025-02-18 15:58:45,643] Trial 24 finished with value: 50.0 and parameters: {'threshold_hidden_min': 0.300255458859959, 'threshold_hidden_max': 2.9371691750219715, 'beta_hidden': 0.7622961500685042, 'threshold_output_min': 0.47922111602056777, 'threshold_output_max': 8.248206265982144, 'beta_output': 0.12165585189568046}. Best is trial 21 with value: 78.0.\n"
     ]
    },
    {
     "name": "stdout",
     "output_type": "stream",
     "text": [
      "Trial 25 Epoch 0: Val Acc 57.00% Loss 0.6931\n"
     ]
    },
    {
     "name": "stderr",
     "output_type": "stream",
     "text": [
      "[I 2025-02-18 15:58:51,095] Trial 25 finished with value: 47.0 and parameters: {'threshold_hidden_min': 0.424237306649633, 'threshold_hidden_max': 2.9587928353912107, 'beta_hidden': 0.8353728326115538, 'threshold_output_min': 0.43041762158399777, 'threshold_output_max': 8.198856570717554, 'beta_output': 0.2896801666799153}. Best is trial 21 with value: 78.0.\n"
     ]
    },
    {
     "name": "stdout",
     "output_type": "stream",
     "text": [
      "Trial 26 Epoch 0: Val Acc 49.50% Loss 0.6801\n"
     ]
    },
    {
     "name": "stderr",
     "output_type": "stream",
     "text": [
      "[I 2025-02-18 15:58:56,401] Trial 26 finished with value: 73.0 and parameters: {'threshold_hidden_min': 0.4701507397328879, 'threshold_hidden_max': 2.980352548336876, 'beta_hidden': 0.7322428781881704, 'threshold_output_min': 0.41147025217128175, 'threshold_output_max': 9.292979543377301, 'beta_output': 0.1957866741355952}. Best is trial 21 with value: 78.0.\n"
     ]
    },
    {
     "name": "stdout",
     "output_type": "stream",
     "text": [
      "Trial 27 Epoch 0: Val Acc 49.50% Loss 0.6931\n"
     ]
    },
    {
     "name": "stderr",
     "output_type": "stream",
     "text": [
      "[I 2025-02-18 15:59:01,773] Trial 27 finished with value: 47.0 and parameters: {'threshold_hidden_min': 0.4384829407545506, 'threshold_hidden_max': 2.952863306159355, 'beta_hidden': 0.8752791032102929, 'threshold_output_min': 0.38267910552265316, 'threshold_output_max': 8.609437619872459, 'beta_output': 0.09165746715705869}. Best is trial 21 with value: 78.0.\n"
     ]
    },
    {
     "name": "stdout",
     "output_type": "stream",
     "text": [
      "Trial 28 Epoch 0: Val Acc 53.50% Loss 0.6931\n"
     ]
    },
    {
     "name": "stderr",
     "output_type": "stream",
     "text": [
      "[I 2025-02-18 15:59:07,039] Trial 28 finished with value: 50.0 and parameters: {'threshold_hidden_min': 0.39447014634136196, 'threshold_hidden_max': 2.964471975958123, 'beta_hidden': 0.805941076033234, 'threshold_output_min': 0.4476517620830589, 'threshold_output_max': 8.386417304490141, 'beta_output': 0.04588501692036051}. Best is trial 21 with value: 78.0.\n"
     ]
    },
    {
     "name": "stdout",
     "output_type": "stream",
     "text": [
      "Trial 29 Epoch 0: Val Acc 47.00% Loss 0.6931\n"
     ]
    },
    {
     "name": "stderr",
     "output_type": "stream",
     "text": [
      "[I 2025-02-18 15:59:12,336] Trial 29 finished with value: 55.0 and parameters: {'threshold_hidden_min': 0.4098049976053123, 'threshold_hidden_max': 2.947978695471725, 'beta_hidden': 0.779759840387595, 'threshold_output_min': 0.34226399362542503, 'threshold_output_max': 8.905210409346433, 'beta_output': 0.14264900559040308}. Best is trial 21 with value: 78.0.\n"
     ]
    },
    {
     "name": "stdout",
     "output_type": "stream",
     "text": [
      "Trial 30 Epoch 0: Val Acc 45.50% Loss 0.6931\n"
     ]
    },
    {
     "name": "stderr",
     "output_type": "stream",
     "text": [
      "[I 2025-02-18 15:59:17,678] Trial 30 finished with value: 57.0 and parameters: {'threshold_hidden_min': 0.3385184576467674, 'threshold_hidden_max': 2.9796364026902866, 'beta_hidden': 0.7671379960047318, 'threshold_output_min': 0.48578518606922094, 'threshold_output_max': 8.768667853695742, 'beta_output': 0.23354202303002866}. Best is trial 21 with value: 78.0.\n"
     ]
    },
    {
     "name": "stdout",
     "output_type": "stream",
     "text": [
      "Trial 31 Epoch 0: Val Acc 46.50% Loss 0.6931\n"
     ]
    },
    {
     "name": "stderr",
     "output_type": "stream",
     "text": [
      "[I 2025-02-18 15:59:22,950] Trial 31 finished with value: 48.5 and parameters: {'threshold_hidden_min': 0.4708164620393832, 'threshold_hidden_max': 2.983933924473733, 'beta_hidden': 0.7338823543947335, 'threshold_output_min': 0.41689401571754214, 'threshold_output_max': 9.282525790115857, 'beta_output': 0.1963318722828248}. Best is trial 21 with value: 78.0.\n"
     ]
    },
    {
     "name": "stdout",
     "output_type": "stream",
     "text": [
      "Trial 32 Epoch 0: Val Acc 44.00% Loss 0.6931\n"
     ]
    },
    {
     "name": "stderr",
     "output_type": "stream",
     "text": [
      "[I 2025-02-18 15:59:28,284] Trial 32 finished with value: 51.0 and parameters: {'threshold_hidden_min': 0.48880054545976775, 'threshold_hidden_max': 2.978522024674984, 'beta_hidden': 0.7324774393496372, 'threshold_output_min': 0.4594864301204603, 'threshold_output_max': 9.082533632073995, 'beta_output': 0.19086969236750545}. Best is trial 21 with value: 78.0.\n"
     ]
    },
    {
     "name": "stdout",
     "output_type": "stream",
     "text": [
      "Trial 33 Epoch 0: Val Acc 52.00% Loss 0.6931\n"
     ]
    },
    {
     "name": "stderr",
     "output_type": "stream",
     "text": [
      "[I 2025-02-18 15:59:33,758] Trial 33 finished with value: 54.0 and parameters: {'threshold_hidden_min': 0.4571739200632681, 'threshold_hidden_max': 2.9957001122360594, 'beta_hidden': 0.7038172305695016, 'threshold_output_min': 0.40521391416202895, 'threshold_output_max': 9.753776342318067, 'beta_output': 0.2123963764622525}. Best is trial 21 with value: 78.0.\n"
     ]
    },
    {
     "name": "stdout",
     "output_type": "stream",
     "text": [
      "Trial 34 Epoch 0: Val Acc 74.00% Loss 0.3231\n"
     ]
    },
    {
     "name": "stderr",
     "output_type": "stream",
     "text": [
      "[I 2025-02-18 15:59:39,160] Trial 34 finished with value: 100.0 and parameters: {'threshold_hidden_min': 0.46438149062801726, 'threshold_hidden_max': 2.9646876910192077, 'beta_hidden': 0.8468230841059797, 'threshold_output_min': 0.4436440954754969, 'threshold_output_max': 9.36989913401044, 'beta_output': 0.2719411200662194}. Best is trial 34 with value: 100.0.\n"
     ]
    },
    {
     "name": "stdout",
     "output_type": "stream",
     "text": [
      "Trial 35 Epoch 0: Val Acc 46.50% Loss 0.6931\n"
     ]
    },
    {
     "name": "stderr",
     "output_type": "stream",
     "text": [
      "[I 2025-02-18 15:59:44,578] Trial 35 finished with value: 43.5 and parameters: {'threshold_hidden_min': 0.4635097183118533, 'threshold_hidden_max': 2.964687288520336, 'beta_hidden': 0.8449703922223728, 'threshold_output_min': 0.4298936621312684, 'threshold_output_max': 9.021006156075702, 'beta_output': 0.28749244423689446}. Best is trial 34 with value: 100.0.\n"
     ]
    },
    {
     "name": "stdout",
     "output_type": "stream",
     "text": [
      "Trial 36 Epoch 0: Val Acc 53.50% Loss 0.6931\n"
     ]
    },
    {
     "name": "stderr",
     "output_type": "stream",
     "text": [
      "[I 2025-02-18 15:59:49,918] Trial 36 finished with value: 43.5 and parameters: {'threshold_hidden_min': 0.4826662321450984, 'threshold_hidden_max': 2.9565445866050943, 'beta_hidden': 0.8762073835377175, 'threshold_output_min': 0.46249579359113857, 'threshold_output_max': 9.459455854641028, 'beta_output': 0.26843317542795664}. Best is trial 34 with value: 100.0.\n"
     ]
    },
    {
     "name": "stdout",
     "output_type": "stream",
     "text": [
      "Trial 37 Epoch 0: Val Acc 45.00% Loss 0.6931\n"
     ]
    },
    {
     "name": "stderr",
     "output_type": "stream",
     "text": [
      "[I 2025-02-18 15:59:55,354] Trial 37 finished with value: 75.0 and parameters: {'threshold_hidden_min': 0.4490970740886179, 'threshold_hidden_max': 2.96736121736125, 'beta_hidden': 0.8292219316860399, 'threshold_output_min': 0.3541241917179086, 'threshold_output_max': 8.155255210010388, 'beta_output': 0.3334370361881131}. Best is trial 34 with value: 100.0.\n"
     ]
    },
    {
     "name": "stdout",
     "output_type": "stream",
     "text": [
      "Trial 38 Epoch 0: Val Acc 52.00% Loss 0.6931\n"
     ]
    },
    {
     "name": "stderr",
     "output_type": "stream",
     "text": [
      "[I 2025-02-18 16:00:00,809] Trial 38 finished with value: 71.0 and parameters: {'threshold_hidden_min': 0.4455031830147225, 'threshold_hidden_max': 2.9686005835521483, 'beta_hidden': 0.8316814703951765, 'threshold_output_min': 0.44956649777871566, 'threshold_output_max': 8.09900595610673, 'beta_output': 0.32849601170964476}. Best is trial 34 with value: 100.0.\n"
     ]
    },
    {
     "name": "stdout",
     "output_type": "stream",
     "text": [
      "Trial 39 Epoch 0: Val Acc 50.50% Loss 0.6931\n"
     ]
    },
    {
     "name": "stderr",
     "output_type": "stream",
     "text": [
      "[I 2025-02-18 16:00:06,083] Trial 39 finished with value: 50.0 and parameters: {'threshold_hidden_min': 0.4310952699898164, 'threshold_hidden_max': 2.9740330976271916, 'beta_hidden': 0.8511855997481618, 'threshold_output_min': 0.4816408728290346, 'threshold_output_max': 8.192662863913979, 'beta_output': 0.2293739391713701}. Best is trial 34 with value: 100.0.\n"
     ]
    },
    {
     "name": "stdout",
     "output_type": "stream",
     "text": [
      "Trial 40 Epoch 0: Val Acc 50.00% Loss 0.6931\n"
     ]
    },
    {
     "name": "stderr",
     "output_type": "stream",
     "text": [
      "[I 2025-02-18 16:00:11,363] Trial 40 finished with value: 47.0 and parameters: {'threshold_hidden_min': 0.416018396760557, 'threshold_hidden_max': 2.946656145369082, 'beta_hidden': 0.8695890632218656, 'threshold_output_min': 0.32469755357882163, 'threshold_output_max': 8.47576275759385, 'beta_output': 0.2646373128882388}. Best is trial 34 with value: 100.0.\n"
     ]
    },
    {
     "name": "stdout",
     "output_type": "stream",
     "text": [
      "Trial 41 Epoch 0: Val Acc 42.00% Loss 0.6931\n"
     ]
    },
    {
     "name": "stderr",
     "output_type": "stream",
     "text": [
      "[I 2025-02-18 16:00:16,711] Trial 41 finished with value: 49.5 and parameters: {'threshold_hidden_min': 0.45431201799590304, 'threshold_hidden_max': 2.9636134501270663, 'beta_hidden': 0.8169257684840106, 'threshold_output_min': 0.3557278983029779, 'threshold_output_max': 9.680473859861905, 'beta_output': 0.32876011714691983}. Best is trial 34 with value: 100.0.\n"
     ]
    },
    {
     "name": "stdout",
     "output_type": "stream",
     "text": [
      "Trial 42 Epoch 0: Val Acc 48.00% Loss 0.6931\n"
     ]
    },
    {
     "name": "stderr",
     "output_type": "stream",
     "text": [
      "[I 2025-02-18 16:00:22,049] Trial 42 finished with value: 51.5 and parameters: {'threshold_hidden_min': 0.40055712217845196, 'threshold_hidden_max': 2.954962689711333, 'beta_hidden': 0.8153648433165603, 'threshold_output_min': 0.37069296455395795, 'threshold_output_max': 8.319604284286156, 'beta_output': 0.15914968242625105}. Best is trial 34 with value: 100.0.\n"
     ]
    },
    {
     "name": "stdout",
     "output_type": "stream",
     "text": [
      "Trial 43 Epoch 0: Val Acc 54.00% Loss 0.6931\n"
     ]
    },
    {
     "name": "stderr",
     "output_type": "stream",
     "text": [
      "[I 2025-02-18 16:00:27,411] Trial 43 finished with value: 40.5 and parameters: {'threshold_hidden_min': 0.4354247570697362, 'threshold_hidden_max': 2.9702679691925455, 'beta_hidden': 0.7904303207493277, 'threshold_output_min': 0.3360219222157777, 'threshold_output_max': 8.119512349601232, 'beta_output': 0.37659091744783113}. Best is trial 34 with value: 100.0.\n"
     ]
    },
    {
     "name": "stdout",
     "output_type": "stream",
     "text": [
      "Trial 44 Epoch 0: Val Acc 50.00% Loss 0.6931\n"
     ]
    },
    {
     "name": "stderr",
     "output_type": "stream",
     "text": [
      "[I 2025-02-18 16:00:32,730] Trial 44 finished with value: 50.0 and parameters: {'threshold_hidden_min': 0.44967525646995093, 'threshold_hidden_max': 2.9612463232731643, 'beta_hidden': 0.8265307621269674, 'threshold_output_min': 0.3622244094166686, 'threshold_output_max': 9.163935033235033, 'beta_output': 0.34608189846151693}. Best is trial 34 with value: 100.0.\n"
     ]
    },
    {
     "name": "stdout",
     "output_type": "stream",
     "text": [
      "Trial 45 Epoch 0: Val Acc 52.50% Loss 0.6931\n"
     ]
    },
    {
     "name": "stderr",
     "output_type": "stream",
     "text": [
      "[I 2025-02-18 16:00:38,028] Trial 45 finished with value: 52.5 and parameters: {'threshold_hidden_min': 0.4159317437174002, 'threshold_hidden_max': 2.940058441513227, 'beta_hidden': 0.8423411342725144, 'threshold_output_min': 0.38260488134387194, 'threshold_output_max': 9.41091016709646, 'beta_output': 0.23792619254356617}. Best is trial 34 with value: 100.0.\n"
     ]
    },
    {
     "name": "stdout",
     "output_type": "stream",
     "text": [
      "Trial 46 Epoch 0: Val Acc 53.50% Loss 0.6931\n"
     ]
    },
    {
     "name": "stderr",
     "output_type": "stream",
     "text": [
      "[I 2025-02-18 16:00:43,402] Trial 46 finished with value: 50.0 and parameters: {'threshold_hidden_min': 0.3839240015738736, 'threshold_hidden_max': 2.9750515902609367, 'beta_hidden': 0.8635563770106437, 'threshold_output_min': 0.34899039702699275, 'threshold_output_max': 8.476023977454771, 'beta_output': 0.10255665871783587}. Best is trial 34 with value: 100.0.\n"
     ]
    },
    {
     "name": "stdout",
     "output_type": "stream",
     "text": [
      "Trial 47 Epoch 0: Val Acc 46.50% Loss 0.6931\n"
     ]
    },
    {
     "name": "stderr",
     "output_type": "stream",
     "text": [
      "[I 2025-02-18 16:00:48,732] Trial 47 finished with value: 75.5 and parameters: {'threshold_hidden_min': 0.4610174125261353, 'threshold_hidden_max': 2.9603687748717467, 'beta_hidden': 0.8859907301700403, 'threshold_output_min': 0.4648751783561612, 'threshold_output_max': 8.000793589750243, 'beta_output': 0.2729040518437894}. Best is trial 34 with value: 100.0.\n"
     ]
    },
    {
     "name": "stdout",
     "output_type": "stream",
     "text": [
      "Trial 48 Epoch 0: Val Acc 43.50% Loss 0.6931\n"
     ]
    },
    {
     "name": "stderr",
     "output_type": "stream",
     "text": [
      "[I 2025-02-18 16:00:54,162] Trial 48 finished with value: 49.5 and parameters: {'threshold_hidden_min': 0.46300817199569894, 'threshold_hidden_max': 2.967898165892902, 'beta_hidden': 0.8804530544449064, 'threshold_output_min': 0.47201683960071156, 'threshold_output_max': 8.142235073334856, 'beta_output': 0.26891367973801567}. Best is trial 34 with value: 100.0.\n"
     ]
    },
    {
     "name": "stdout",
     "output_type": "stream",
     "text": [
      "Trial 49 Epoch 0: Val Acc 49.50% Loss 0.6931\n"
     ]
    },
    {
     "name": "stderr",
     "output_type": "stream",
     "text": [
      "[I 2025-02-18 16:00:59,583] Trial 49 finished with value: 50.5 and parameters: {'threshold_hidden_min': 0.44592201387506053, 'threshold_hidden_max': 2.951868099104198, 'beta_hidden': 0.8926647832868359, 'threshold_output_min': 0.4898265447213076, 'threshold_output_max': 8.01996138336676, 'beta_output': 0.31578457046215597}. Best is trial 34 with value: 100.0.\n"
     ]
    },
    {
     "name": "stdout",
     "output_type": "stream",
     "text": [
      "Best trial:\n",
      "  Value: 100.0\n",
      "  Params:\n",
      "    threshold_hidden_min: 0.46438149062801726\n",
      "    threshold_hidden_max: 2.9646876910192077\n",
      "    beta_hidden: 0.8468230841059797\n",
      "    threshold_output_min: 0.4436440954754969\n",
      "    threshold_output_max: 9.36989913401044\n",
      "    beta_output: 0.2719411200662194\n",
      "Best hyperparameters saved to best_hyperparameters.json\n"
     ]
    }
   ],
   "source": [
    "# mode = \"train\" or \"hpo\"\n",
    "mode = \"hpo\"\n",
    "\n",
    "if mode == \"hpo\":\n",
    "    study = optuna.create_study(direction=\"maximize\")\n",
    "    study.optimize(objective, n_trials=50)\n",
    "    best_trial = study.best_trial\n",
    "    print(\"Best trial:\")\n",
    "    print(f\"  Value: {best_trial.value}\")\n",
    "    print(\"  Params:\")\n",
    "    for key, value in best_trial.params.items():\n",
    "        print(f\"    {key}: {value}\")\n",
    "    with open(\"best_hyperparameters.json\", \"w\") as f:\n",
    "        json.dump(best_trial.params, f, indent=4)\n",
    "    print(\"Best hyperparameters saved to best_hyperparameters.json\")\n",
    "    \n",
    "elif mode == \"train\":\n",
    "    with open(\"best_hyperparameters.json\", \"r\") as f:\n",
    "        best_tuned = json.load(f)\n",
    "    final_hyperparams = dict(hyperparams)\n",
    "    final_hyperparams.update(best_tuned)\n",
    "    results = run_training(final_hyperparams)\n"
   ]
  },
  {
   "cell_type": "markdown",
   "metadata": {},
   "source": [
    "# PLOTS - NEW"
   ]
  },
  {
   "cell_type": "code",
   "execution_count": null,
   "metadata": {},
   "outputs": [],
   "source": [
    "# PLOTS (Run only after a full training run)\n",
    "unique_folder_name = results[\"output_folder\"]\n",
    "num_epochs = results[\"num_epochs\"]\n",
    "deltaT = results[\"deltaT\"]\n",
    "model = results[\"model\"]\n",
    "\n",
    "train_loader = results[\"train_loader\"]\n",
    "test_loader = results[\"test_loader\"]\n",
    "test_metrics = results[\"test_metrics\"]\n",
    "\n",
    "# Sample Dataset plot\n",
    "plot_wave(train_loader, save_path=os.path.join(unique_folder_name, 'wave_samples.png'))\n",
    "\n",
    "plot_accuracies(num_epochs, train_accuracy=results[\"train_acc_list\"], validation_accuracy=results[\"val_acc_list\"],\n",
    "                save_path=os.path.join(unique_folder_name, 'accuracy_plot'))\n",
    "\n",
    "\n",
    "# Loss curve plot (using recorded training and validation losses)\n",
    "plot_loss_curve(results[\"train_loss_list\"], results[\"val_loss_list\"], num_epochs,\n",
    "                os.path.join(unique_folder_name, 'loss_curve'))\n",
    "\n",
    "# Confusion Matrix plot using test metrics.\n",
    "plot_metrics(test_metrics, os.path.join(unique_folder_name, 'evaluation_plots'))\n",
    "\n",
    "# Equal Prediction Count plot.\n",
    "plot_equal_prediction_values(results[\"equal_prediction_values\"], num_epochs,\n",
    "                             os.path.join(unique_folder_name, 'equal_prediction_values'))\n",
    "\n",
    "# Beta Values plots for hidden and output layers.\n",
    "plot_beta_values(results[\"beta1_values\"], num_epochs,\n",
    "                 os.path.join(unique_folder_name, 'beta_hidden_layer'), layer_name='Hidden')\n",
    "plot_beta_values(results[\"beta2_values\"], num_epochs,\n",
    "                 os.path.join(unique_folder_name, 'beta_output_layer'), layer_name='Output')\n",
    "\n",
    "# Tau Values plots (derived from beta values and deltaT).\n",
    "plot_tau_values(results[\"beta1_values\"], num_epochs, deltaT,\n",
    "                os.path.join(unique_folder_name, 'tau_hidden_layer'), layer_name='Hidden')\n",
    "plot_tau_values(results[\"beta2_values\"], num_epochs, deltaT,\n",
    "                os.path.join(unique_folder_name, 'tau_output_layer'), layer_name='Output')\n",
    "\n",
    "# Weight Distribution plots for hidden and output layers.\n",
    "plot_layer_weights(results[\"weights_hidden_layer\"], num_epochs,\n",
    "                   os.path.join(unique_folder_name, 'weights_hidden_layer'), layer_name='Hidden')\n",
    "plot_layer_weights(results[\"weights_output_layer\"], num_epochs,\n",
    "                   os.path.join(unique_folder_name, 'weights_output_layer'), layer_name='Output')\n",
    "\n",
    "# Spike Count vs Epochs plot.\n",
    "plot_spike_counts(results[\"hidden_spike_count_list\"], results[\"output_spike_count_list\"],\n",
    "                  results[\"output_spike_counts_neuron0_list\"], results[\"output_spike_counts_neuron1_list\"],\n",
    "                  num_epochs, os.path.join(unique_folder_name, 'spike_counts'))\n",
    "\n",
    "# Spikes plots for hidden and output layers.\n",
    "plot_snn_spikes(model, test_loader, device, os.path.join(unique_folder_name, 'hidden_layer_spikes'),\n",
    "                layer_name='Hidden', layer_size=hyperparams[\"hidden_size\"], num_steps=model.num_steps)\n",
    "plot_snn_spikes(model, test_loader, device, os.path.join(unique_folder_name, 'output_layer_spikes'),\n",
    "                layer_name='Output', layer_size=hyperparams[\"output_size\"], num_steps=model.num_steps)\n",
    "\n",
    "# Membrane Potential plots for hidden and output layers.\n",
    "plot_membrane_potentials(model, test_loader, device, 'Hidden', hyperparams[\"hidden_size\"], model.num_steps,\n",
    "                         os.path.join(unique_folder_name, 'hidden_membrane_potentials'))\n",
    "plot_membrane_potentials(model, test_loader, device, 'Output', hyperparams[\"output_size\"], model.num_steps,\n",
    "                         os.path.join(unique_folder_name, 'output_membrane_potentials'))\n",
    "\n",
    "# Threshold Potentials plots for hidden and output layers.\n",
    "plot_threshold_potentials(results[\"threshold_hidden_layer\"], num_epochs,\n",
    "                          os.path.join(unique_folder_name, 'threshold_hidden_layer'), 'Hidden')\n",
    "plot_threshold_potentials(results[\"threshold_output_layer\"], num_epochs,\n",
    "                          os.path.join(unique_folder_name, 'threshold_output_layer'), 'Output')"
   ]
  },
  {
   "cell_type": "markdown",
   "metadata": {},
   "source": [
    "# PLOTS - OLD"
   ]
  },
  {
   "cell_type": "markdown",
   "metadata": {},
   "source": [
    "ONLY AFTER HAVING DONE AT LEAST 1 FULL TRAINING RUN"
   ]
  },
  {
   "cell_type": "code",
   "execution_count": 14,
   "metadata": {},
   "outputs": [],
   "source": [
    "unique_folder_name = results[\"output_folder\"]\n",
    "num_epochs = results[\"num_epochs\"]\n",
    "deltaT = results[\"deltaT\"]\n",
    "model = results[\"model\"]\n",
    "\n",
    "train_loader = results[\"train_loader\"]\n",
    "test_loader = results[\"test_loader\"]\n",
    "test_metrics = results[\"test_metrics\"]"
   ]
  },
  {
   "cell_type": "markdown",
   "metadata": {},
   "source": [
    "### Sample Dataset"
   ]
  },
  {
   "cell_type": "code",
   "execution_count": null,
   "metadata": {},
   "outputs": [],
   "source": [
    "plot_wave(train_loader, save_path=os.path.join(unique_folder_name, 'wave_samples.png'))"
   ]
  },
  {
   "cell_type": "markdown",
   "metadata": {},
   "source": [
    "### Accuracy"
   ]
  },
  {
   "cell_type": "code",
   "execution_count": null,
   "metadata": {},
   "outputs": [],
   "source": [
    "plot_accuracies(num_epochs, test_accuracies, validation_accuracies, os.path.join(unique_folder_name, 'accuracy_plot'))"
   ]
  },
  {
   "cell_type": "markdown",
   "metadata": {},
   "source": [
    "### Loss"
   ]
  },
  {
   "cell_type": "code",
   "execution_count": null,
   "metadata": {},
   "outputs": [],
   "source": [
    "plot_loss_curve(loss_hist, test_loss_hist, num_epochs, os.path.join(unique_folder_name, 'loss_curve'))"
   ]
  },
  {
   "cell_type": "markdown",
   "metadata": {},
   "source": [
    "### Confusion Matrix"
   ]
  },
  {
   "cell_type": "code",
   "execution_count": null,
   "metadata": {},
   "outputs": [],
   "source": [
    "plot_metrics(test_metrics,os.path.join(unique_folder_name, 'evaluation_plots'))"
   ]
  },
  {
   "cell_type": "markdown",
   "metadata": {},
   "source": [
    "### Equal Prediction Count"
   ]
  },
  {
   "cell_type": "code",
   "execution_count": null,
   "metadata": {},
   "outputs": [],
   "source": [
    "plot_equal_prediction_values(equal_prediction_values, num_epochs, os.path.join(unique_folder_name, 'equal_prediction_values'))"
   ]
  },
  {
   "cell_type": "markdown",
   "metadata": {},
   "source": [
    "### Beta Hidden Layer"
   ]
  },
  {
   "cell_type": "code",
   "execution_count": null,
   "metadata": {},
   "outputs": [],
   "source": [
    "plot_beta_values(beta1_values, num_epochs, os.path.join(unique_folder_name, 'beta_hidden_layer'), layer_name='Hidden')"
   ]
  },
  {
   "cell_type": "markdown",
   "metadata": {},
   "source": [
    "### Beta Output Layer"
   ]
  },
  {
   "cell_type": "code",
   "execution_count": null,
   "metadata": {},
   "outputs": [],
   "source": [
    "plot_beta_values(beta2_values, num_epochs, os.path.join(unique_folder_name, 'beta_output_layer'), layer_name='Output')"
   ]
  },
  {
   "cell_type": "markdown",
   "metadata": {},
   "source": [
    "### Tau Hidden Layer"
   ]
  },
  {
   "cell_type": "code",
   "execution_count": null,
   "metadata": {},
   "outputs": [],
   "source": [
    "plot_tau_values(beta1_values, num_epochs, deltaT, os.path.join(unique_folder_name, 'tau_hidden_layer'), layer_name='Hidden')"
   ]
  },
  {
   "cell_type": "markdown",
   "metadata": {},
   "source": [
    "### Tau Output Layer"
   ]
  },
  {
   "cell_type": "code",
   "execution_count": null,
   "metadata": {},
   "outputs": [],
   "source": [
    "plot_tau_values(beta2_values, num_epochs, deltaT, os.path.join(unique_folder_name, 'tau_output_layer'), layer_name='Output')"
   ]
  },
  {
   "cell_type": "markdown",
   "metadata": {},
   "source": [
    "### Weights Hidden Layer"
   ]
  },
  {
   "cell_type": "code",
   "execution_count": null,
   "metadata": {},
   "outputs": [],
   "source": [
    "plot_layer_weights(weights_hidden_layer, num_epochs, os.path.join(unique_folder_name, 'weights_hidden_layer'), layer_name='Hidden')"
   ]
  },
  {
   "cell_type": "markdown",
   "metadata": {},
   "source": [
    "### Weights Output Layer"
   ]
  },
  {
   "cell_type": "code",
   "execution_count": null,
   "metadata": {},
   "outputs": [],
   "source": [
    "plot_layer_weights(weights_output_layer, num_epochs, os.path.join(unique_folder_name, 'weights_output_layer'), layer_name='Output')"
   ]
  },
  {
   "cell_type": "markdown",
   "metadata": {},
   "source": [
    "### Spike Count vs Epochs"
   ]
  },
  {
   "cell_type": "code",
   "execution_count": null,
   "metadata": {},
   "outputs": [],
   "source": [
    "plot_spike_counts(hidden_spike_count, output_spike_count, output_spike_counts_neuron0, output_spike_counts_neuron1, num_epochs, os.path.join(unique_folder_name, 'spike_counts'))"
   ]
  },
  {
   "cell_type": "markdown",
   "metadata": {},
   "source": [
    "### Spikes Hidden Layer"
   ]
  },
  {
   "cell_type": "code",
   "execution_count": null,
   "metadata": {},
   "outputs": [],
   "source": [
    "plot_snn_spikes(model, test_loader, device, os.path.join(unique_folder_name, 'hidden_layer_spikes'), layer_name='Hidden', layer_size=hidden_size, num_steps=num_steps)"
   ]
  },
  {
   "cell_type": "markdown",
   "metadata": {},
   "source": [
    "### Spikes Output Layer"
   ]
  },
  {
   "cell_type": "code",
   "execution_count": null,
   "metadata": {},
   "outputs": [],
   "source": [
    "plot_snn_spikes(model, test_loader, device, os.path.join(unique_folder_name, 'output_layer_spikes'), layer_name='Output', layer_size=output_size, num_steps=num_steps)"
   ]
  },
  {
   "cell_type": "markdown",
   "metadata": {},
   "source": [
    "### Vmem Hidden Layer"
   ]
  },
  {
   "cell_type": "code",
   "execution_count": null,
   "metadata": {},
   "outputs": [],
   "source": [
    "plot_membrane_potentials(model, test_loader, device, 'Hidden', hidden_size, num_steps, os.path.join(unique_folder_name, 'hidden_membrane_potentials'))"
   ]
  },
  {
   "cell_type": "markdown",
   "metadata": {},
   "source": [
    "### Vmem Output Layer"
   ]
  },
  {
   "cell_type": "code",
   "execution_count": null,
   "metadata": {},
   "outputs": [],
   "source": [
    "plot_membrane_potentials(model, test_loader, device, 'Output', output_size, num_steps, os.path.join(unique_folder_name, 'output_membrane_potentials'))"
   ]
  },
  {
   "cell_type": "markdown",
   "metadata": {},
   "source": [
    "### Threshold Hidden Layer"
   ]
  },
  {
   "cell_type": "code",
   "execution_count": null,
   "metadata": {},
   "outputs": [],
   "source": [
    "plot_threshold_potentials(threshold_hidden_layer, num_epochs, os.path.join(unique_folder_name, 'threshold_hidden_layer'), 'Hidden')"
   ]
  },
  {
   "cell_type": "markdown",
   "metadata": {},
   "source": [
    "### Threshold Output Layer"
   ]
  },
  {
   "cell_type": "code",
   "execution_count": null,
   "metadata": {},
   "outputs": [],
   "source": [
    "plot_threshold_potentials(threshold_output_layer, num_epochs, os.path.join(unique_folder_name, 'threshold_output_layer'), 'Output')"
   ]
  }
 ],
 "metadata": {
  "kernelspec": {
   "display_name": "NeuroVecio",
   "language": "python",
   "name": "python3"
  },
  "language_info": {
   "codemirror_mode": {
    "name": "ipython",
    "version": 3
   },
   "file_extension": ".py",
   "mimetype": "text/x-python",
   "name": "python",
   "nbconvert_exporter": "python",
   "pygments_lexer": "ipython3",
   "version": "3.9.18"
  }
 },
 "nbformat": 4,
 "nbformat_minor": 2
}
