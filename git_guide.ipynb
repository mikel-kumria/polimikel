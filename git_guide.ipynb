{
 "cells": [
  {
   "cell_type": "markdown",
   "metadata": {},
   "source": [
    "# Git Terminal Command Guide\n",
    "## Table of Contents\n",
    "\n",
    "- [0. How-to](#howto)\n",
    "\n",
    "- [1. Installing Git](#installation)\n",
    "\n",
    "- [2. Repository Initialization and Configuration](#configuration)\n",
    "\n",
    "- [3. Basic Workflow Commands](#basics)\n",
    "\n",
    "- [4. Branching and Merging](#branching)\n",
    "\n",
    "- [5. Synchronization with Remote Repositories](#sync)\n",
    "\n",
    "- [6. Viewing and Searching Commit History](#searching)\n",
    "\n",
    "- [7. Undoing Changes and Recovery](#recovery)\n",
    "\n",
    "- [8. Working with Tags](#tags)\n",
    "\n",
    "- [9. Stashing Changes](#stashing)\n",
    "\n",
    "- [10. Advanced Commands and Techniques](#advanced)\n",
    "\n",
    "- [11. Git Configuration and Aliases](#aliases)\n",
    "\n",
    "- [12. Differences Between Ubuntu, macOS, and Windows](#os)\n",
    "\n",
    "- [13. Additional Resources](#resources)"
   ]
  },
  {
   "cell_type": "markdown",
   "metadata": {},
   "source": [
    "## 0. How-to\n",
    "<a id=\"howto\"></a>"
   ]
  },
  {
   "cell_type": "markdown",
   "metadata": {},
   "source": [
    "### Open your terminal and navigate to the directory of your Git repository\n",
    "\n",
    "If you're not already in the repository directory, use the `cd` command:\n",
    "\n",
    " - `cd /path/to/your/repository`\n",
    "\n",
    "Replace `/path/to/your/repository` with the actual path of your Git folder."
   ]
  },
  {
   "cell_type": "markdown",
   "metadata": {},
   "source": [
    "### Check Git Status\n",
    "\n",
    "It's a good practice to check the status of your repository to see which files have been modified or are new:\n",
    "\n",
    "- `git status`\n",
    "\n",
    "This command will show the changes you've made and whether files are staged for committing."
   ]
  },
  {
   "cell_type": "markdown",
   "metadata": {},
   "source": [
    "### Stage the Changes\n",
    "\n",
    "If there are files you want to include in the commit, stage them with:\n",
    "\n",
    "- `git add .`\n",
    "\n",
    "This command stages all modified and new files. Alternatively, to stage individual files, use:\n",
    "\n",
    "- `git add filename`"
   ]
  },
  {
   "cell_type": "markdown",
   "metadata": {},
   "source": [
    "### Commit Your Changes\n",
    "\n",
    "Once staged, you can commit your changes. Include a message to describe what was modified:\n",
    "\n",
    "- `git commit -m \"Describe your changes here\"`"
   ]
  },
  {
   "cell_type": "markdown",
   "metadata": {},
   "source": [
    "### Push to the Remote Repository\n",
    "\n",
    "To push the changes to GitHub, use:\n",
    "\n",
    "- `git push origin main`\n",
    "\n",
    "Replace main with the name of the branch you're working on if it's different. Often, `main` or `master` is the default branch.\n",
    "\n",
    "If you’ve already set the local branch (e.g., `main`) to track the remote branch (e.g., `origin`/`main`), then you can simply run:\n",
    "\n",
    "- `git push`\n",
    "\n",
    "This works because Git knows which remote branch your local branch is associated with and will automatically push changes to the correct location.\n",
    "\n",
    "For most use cases on single-remote projects, setting up tracking with `git push -u origin branch` initially allows you to use `git push`.\n",
    "\n",
    "When working with multiple branches or remotes, use `git push origin branch` explicitly to avoid mistakes."
   ]
  },
  {
   "cell_type": "markdown",
   "metadata": {},
   "source": [
    "## 1. Installing Git\n",
    "<a id=\"installation\"></a>"
   ]
  },
  {
   "cell_type": "markdown",
   "metadata": {},
   "source": [
    "### Installation (Linux)"
   ]
  },
  {
   "cell_type": "markdown",
   "metadata": {},
   "source": [
    "- `sudo apt update`\n",
    "\n",
    "- `sudo apt install git`"
   ]
  },
  {
   "cell_type": "markdown",
   "metadata": {},
   "source": [
    "### Installation (Windows)"
   ]
  },
  {
   "cell_type": "markdown",
   "metadata": {},
   "source": [
    "Download and install Git from `git-scm.com`."
   ]
  },
  {
   "cell_type": "markdown",
   "metadata": {},
   "source": [
    "### Installation (macOS)"
   ]
  },
  {
   "cell_type": "markdown",
   "metadata": {},
   "source": [
    "Through Xcode Command Line Tools:\n",
    "\n",
    "- `xcode-select --install`\n",
    "\n",
    "<br>\n",
    "\n",
    "Alternatively, install Git via Homebrew:\n",
    "\n",
    "- `brew install git`"
   ]
  },
  {
   "cell_type": "markdown",
   "metadata": {},
   "source": [
    "## 2. Repository Initialization and Configuration\n",
    "<a id=\"configuration\"></a>"
   ]
  },
  {
   "cell_type": "markdown",
   "metadata": {},
   "source": [
    "### Configure Git with Your Idendity\n",
    "\n",
    "- `git config --global user.name \"Your Name\"`\n",
    "\n",
    "- `git config --global user.email \"you@example.com\"`\n",
    "\n",
    "Explanation: Sets your name and email, which will be associated with your commits across all repositories on your machine.\n"
   ]
  },
  {
   "cell_type": "markdown",
   "metadata": {},
   "source": [
    "### Initialize New Repository\n",
    "\n",
    "- `git init`\n",
    "\n",
    "Explanation: Initializes a new Git repository in the current directory, creating a `.git` subdirectory.\n"
   ]
  },
  {
   "cell_type": "markdown",
   "metadata": {},
   "source": [
    "### Clone an Existing Repository\n",
    "\n",
    "- `git clone <repository-url>`\n",
    "\n",
    "Explanation: Creates a local copy of a remote repository."
   ]
  },
  {
   "cell_type": "markdown",
   "metadata": {},
   "source": [
    "## 3. Basic Workflow Commands\n",
    "<a id=\"basics\"></a>"
   ]
  },
  {
   "cell_type": "markdown",
   "metadata": {},
   "source": [
    "### Check Repository Status\n",
    "\n",
    "- `git status`\n",
    "\n",
    "Explanation: Shows the status of your working directory and staging area, indicating which files are untracked, modified, or staged for commit."
   ]
  },
  {
   "cell_type": "markdown",
   "metadata": {},
   "source": [
    "### Add Changes to Staging Area\n",
    "\n",
    "- `git add <file>`\n",
    "\n",
    "Explanation: Adds the specified file to the staging area, marking it for inclusion in the next commit."
   ]
  },
  {
   "cell_type": "markdown",
   "metadata": {},
   "source": [
    "### Add All Changes\n",
    "\n",
    "- `git add .`\n",
    "\n",
    "Explanation: Stages all changed files in the current directory and subdirectories."
   ]
  },
  {
   "cell_type": "markdown",
   "metadata": {},
   "source": [
    "### Commit Changes\n",
    "\n",
    "- `git commit -m \"Your commit message\"`\n",
    "\n",
    "Explanation: Records the staged changes in the repository with a descriptive message."
   ]
  },
  {
   "cell_type": "markdown",
   "metadata": {},
   "source": [
    "### View Commit History\n",
    "\n",
    "- `git log`\n",
    "\n",
    "Explanation: Displays a list of commits, including commit hashes, author, date, and commit messages."
   ]
  },
  {
   "cell_type": "markdown",
   "metadata": {},
   "source": [
    "### Show Differences\n",
    "\n",
    "Between Working Directory and Last Commit:\n",
    "\n",
    "- `git diff`\n",
    "\n",
    "<br>\n",
    "\n",
    "Between Staged Changes and Last Commit:\n",
    "\n",
    "- `git diff --staged`\n",
    "\n",
    "<br>\n",
    "\n",
    "Explanation: `git diff` shows line-by-line differences for files."
   ]
  },
  {
   "cell_type": "markdown",
   "metadata": {},
   "source": [
    "\n",
    "## 4. Branching and Merging\n",
    "<a id=\"branching\"></a>\n"
   ]
  },
  {
   "cell_type": "markdown",
   "metadata": {},
   "source": [
    "### List Branches\n",
    "\n",
    "- `git branch`\n",
    "\n",
    "Explanation: Lists all local branches, highlighting the current one."
   ]
  },
  {
   "cell_type": "markdown",
   "metadata": {},
   "source": [
    "### Create a New Branch\n",
    "\n",
    "- `git branch <branch-name>`\n",
    "\n",
    "Explanation: Creates a new branch named `<branch-name>`."
   ]
  },
  {
   "cell_type": "markdown",
   "metadata": {},
   "source": [
    "### Switch to a Branch\n",
    "\n",
    "- `git checkout <branch-name>`\n",
    "\n",
    "Explanation: Switches your working directory to the specified branch."
   ]
  },
  {
   "cell_type": "markdown",
   "metadata": {},
   "source": [
    "### Create and Switch to a New Branch\n",
    "\n",
    "- `git checkout -b <branch-name>`\n",
    "\n",
    "Explanation: Creates a new branch and immediately switches to it."
   ]
  },
  {
   "cell_type": "markdown",
   "metadata": {},
   "source": [
    "### Merge a Branch into Current Branch\n",
    "\n",
    "- `git merge <branch-name>`\n",
    "\n",
    "Explanation: Integrates changes from `<branch-name>` into your current branch."
   ]
  },
  {
   "cell_type": "markdown",
   "metadata": {},
   "source": [
    "### Delete a Branch\n",
    "\n",
    "- `git branch -d <branch-name>`\n",
    "\n",
    "Explanation: Deletes the specified branch if it has been merged."
   ]
  },
  {
   "cell_type": "markdown",
   "metadata": {},
   "source": [
    "## 5. Synchronization with Remote Repositories\n",
    "<a id=\"sync\"></a>\n"
   ]
  },
  {
   "cell_type": "markdown",
   "metadata": {},
   "source": [
    "### Add a Remote Repository\n",
    "\n",
    "- `git remote add origin <repository-url>`\n",
    "\n",
    "Explanation: Associates the name `origin` with the remote repository."
   ]
  },
  {
   "cell_type": "markdown",
   "metadata": {},
   "source": [
    "### View Remote Repositories\n",
    "\n",
    "- `git remote -v`\n",
    "\n",
    "Explanation: Displays the remote repositories linked to your local repo."
   ]
  },
  {
   "cell_type": "markdown",
   "metadata": {},
   "source": [
    "### Fetch Changes from Remote\n",
    "\n",
    "- `git fetch`\n",
    "\n",
    "Explanation: Downloads objects and refs from the remote repository but doesn't integrate them."
   ]
  },
  {
   "cell_type": "markdown",
   "metadata": {},
   "source": [
    "### Pull Changes from Remote and Merge\n",
    "\n",
    "- `git pull`\n",
    "\n",
    "Explanation: Fetches and merges changes from the remote repository into your current branch."
   ]
  },
  {
   "cell_type": "markdown",
   "metadata": {},
   "source": [
    "### Push Changes to Remote Repository\n",
    "\n",
    "- `git push origin <branch-name>`\n",
    "\n",
    "Explanation: Uploads your local commits to the remote repository."
   ]
  },
  {
   "cell_type": "markdown",
   "metadata": {},
   "source": [
    "### Push New Branch to Remote\n",
    "\n",
    "- `git push -u origin <branch-name>`\n",
    "\n",
    "Explanation: Pushes the branch and sets it to track the remote branch."
   ]
  },
  {
   "cell_type": "markdown",
   "metadata": {},
   "source": [
    "## 6. Viewing and Searching Commit History\n",
    "<a id=\"searching\"></a>\n"
   ]
  },
  {
   "cell_type": "markdown",
   "metadata": {},
   "source": [
    "### Simplified Log\n",
    "\n",
    "- `git log --oneline`\n",
    "\n",
    "Explanation: Shows a compact version of the commit history."
   ]
  },
  {
   "cell_type": "markdown",
   "metadata": {},
   "source": [
    "### Graphical Log\n",
    "\n",
    "- `git log --oneline --graph --all`\n",
    "\n",
    "Explanation: Displays a visual graph of commit history across all branches."
   ]
  },
  {
   "cell_type": "markdown",
   "metadata": {},
   "source": [
    "### Search Commit Messages\n",
    "\n",
    "- `git log --grep \"search-term\"`\n",
    "\n",
    "Explanation: Searches commits with messages containing \"search-term\"."
   ]
  },
  {
   "cell_type": "markdown",
   "metadata": {},
   "source": [
    "### Show Commit Details\n",
    "\n",
    "- `git show <commit-hash>`\n",
    "\n",
    "Explanation: Shows detailed information and changes for a specific commit."
   ]
  },
  {
   "cell_type": "markdown",
   "metadata": {},
   "source": [
    "## 7. Undoing Changes and Recovery\n",
    "<a id=\"recovery\"></a>\n"
   ]
  },
  {
   "cell_type": "markdown",
   "metadata": {},
   "source": [
    "### Unstage Changes\n",
    "\n",
    "- `git reset <file>`\n",
    "\n",
    "Explanation: Removes the specified file from the staging area but leaves the working directory unchanged."
   ]
  },
  {
   "cell_type": "markdown",
   "metadata": {},
   "source": [
    "### Discard Changes in Working Directory\n",
    "\n",
    "- `git checkout -- <file>`\n",
    "\n",
    "Explanation: Reverts the file in your working directory to match the last commit."
   ]
  },
  {
   "cell_type": "markdown",
   "metadata": {},
   "source": [
    "### Revert a Commit\n",
    "\n",
    "- `git revert <commit-hash>`\n",
    "\n",
    "Explanation: Creates a new commit that undoes the changes from the specified commit."
   ]
  },
  {
   "cell_type": "markdown",
   "metadata": {},
   "source": [
    "### Reset to a Previous Commit\n",
    "\n",
    "- `git reset --hard <commit-hash>`\n",
    "\n",
    "Explanation: Resets your current branch to the specified commit, discarding all changes after it.\n",
    "\n",
    "_WARNING: This action is irreversible and can lead to data loss._"
   ]
  },
  {
   "cell_type": "markdown",
   "metadata": {},
   "source": [
    "### Amend Last Commit\n",
    "\n",
    "- `git commit --amend`\n",
    "\n",
    "Explanation: Modifies the most recent commit with new changes or an updated commit message."
   ]
  },
  {
   "cell_type": "markdown",
   "metadata": {},
   "source": [
    "## 8. Working with Tags\n",
    "<a id=\"tags\"></a>\n"
   ]
  },
  {
   "cell_type": "markdown",
   "metadata": {},
   "source": [
    "### List Tags\n",
    "\n",
    "- `git tag`\n",
    "\n",
    "Explanation: Lists all tags in the repository."
   ]
  },
  {
   "cell_type": "markdown",
   "metadata": {},
   "source": [
    "### Create a Lightweight Tag\n",
    "\n",
    "- `git tag <tag-name>`\n",
    "\n",
    "Explanation: Creates a simple tag pointing to the current commit."
   ]
  },
  {
   "cell_type": "markdown",
   "metadata": {},
   "source": [
    "### Create an Annotated Tag\n",
    "\n",
    "- `git tag -a <tag-name> -m \"Tag message\"`\n",
    "\n",
    "Explanation: Creates a tag with metadata, including the author and message."
   ]
  },
  {
   "cell_type": "markdown",
   "metadata": {},
   "source": [
    "### Push Tags to Remote\n",
    "\n",
    "- `git push origin <tag-name>`\n",
    "\n",
    "Explanation: Pushes the specified tag to the remote repository."
   ]
  },
  {
   "cell_type": "markdown",
   "metadata": {},
   "source": [
    "### Push All Tags\n",
    "\n",
    "- `git push origin --tags`\n"
   ]
  },
  {
   "cell_type": "markdown",
   "metadata": {},
   "source": [
    "\n",
    "### Delete a Tag Locally\n",
    "\n",
    "- `git tag -d <tag-name>`\n"
   ]
  },
  {
   "cell_type": "markdown",
   "metadata": {},
   "source": [
    "\n",
    "### Delete a Tag Remotely\n",
    "\n",
    "- `git push origin --delete <tag-name>`"
   ]
  },
  {
   "cell_type": "markdown",
   "metadata": {},
   "source": [
    "## 9. Stashing Changes\n",
    "<a id=\"stashing\"></a>\n"
   ]
  },
  {
   "cell_type": "markdown",
   "metadata": {},
   "source": [
    "### Stash Uncommitted Changes\n",
    "\n",
    "- `git stash`\n",
    "\n",
    "Explanation: Saves your local modifications and reverts your working directory to match the HEAD commit."
   ]
  },
  {
   "cell_type": "markdown",
   "metadata": {},
   "source": [
    "### List Stashes\n",
    "\n",
    "- `git stash list`\n",
    "\n",
    "Explanation: Shows all stashed changes."
   ]
  },
  {
   "cell_type": "markdown",
   "metadata": {},
   "source": [
    "### Apply the Latest Stash\n",
    "\n",
    "- `git stash apply`\n",
    "\n",
    "Explanation: Applies the most recent stash to your working directory."
   ]
  },
  {
   "cell_type": "markdown",
   "metadata": {},
   "source": [
    "### Apply and Remove the Latest Stash\n",
    "\n",
    "- `git stash pop`\n",
    "\n",
    "Explanation: Applies the most recent stash and removes it from the stash list."
   ]
  },
  {
   "cell_type": "markdown",
   "metadata": {},
   "source": [
    "### Drop a Specific Stash\n",
    "\n",
    "- `git stash drop stash@{n}`\n",
    "\n",
    "Explanation: Deletes the specified stash without applying it."
   ]
  },
  {
   "cell_type": "markdown",
   "metadata": {},
   "source": [
    "## 10. Advanced Commands and Techniques\n",
    "<a id=\"advanced\"></a>\n"
   ]
  },
  {
   "cell_type": "markdown",
   "metadata": {},
   "source": [
    "### Cherry-Pick a Commit\n",
    "\n",
    "- `git cherry-pick <commit-hash>`\n",
    "\n",
    "Explanation: Applies changes from a specific commit to your current branch."
   ]
  },
  {
   "cell_type": "markdown",
   "metadata": {},
   "source": [
    "### Interactive Rebase\n",
    "\n",
    "- `git rebase -i <base-commit>`\n",
    "\n",
    "Explanation: Allows you to edit, squash, or reorder commits."
   ]
  },
  {
   "cell_type": "markdown",
   "metadata": {},
   "source": [
    "### Squash Commits\n",
    "\n",
    "During interactive rebase, replace `pick` with `squash` for commits you want to combine."
   ]
  },
  {
   "cell_type": "markdown",
   "metadata": {},
   "source": [
    "### Bisect to Find a Bug\n",
    "\n",
    "- `git bisect start`\n",
    "\n",
    "- `git bisect bad`\n",
    "\n",
    "- `git bisect good <commit-hash>`\n",
    "\n",
    "Explanation: Helps identify the commit that introduced a bug using binary search."
   ]
  },
  {
   "cell_type": "markdown",
   "metadata": {},
   "source": [
    "### Clean Untracked Files\n",
    "\n",
    "- `git clean -f`\n",
    "\n",
    "Explanation: Removes untracked files from your working directory.\n",
    "\n",
    "<br>\n",
    "\n",
    "Dry Run (Preview):\n",
    "\n",
    "- `git clean -n`\n",
    "\n",
    "<br>\n",
    "\n",
    "Remove Untracked Directories:\n",
    "\n",
    "- `git clean -fd`"
   ]
  },
  {
   "cell_type": "markdown",
   "metadata": {},
   "source": [
    "### Show Who Modified Each Line\n",
    "\n",
    "- `git blame <file>`\n",
    "\n",
    "Explanation: Displays the last commit that modified each line of the file."
   ]
  },
  {
   "cell_type": "markdown",
   "metadata": {},
   "source": [
    "## 11. Git Configuration and Aliases\n",
    "<a id=\"aliases\"></a>\n"
   ]
  },
  {
   "cell_type": "markdown",
   "metadata": {},
   "source": [
    "### Set Default Text Editor\n",
    "\n",
    "Set Vim as Default Editor:\n",
    "\n",
    "- `git config --global core.editor \"vim\"`\n",
    "\n",
    "<br>\n",
    "\n",
    "Set Nano as Default Editor:\n",
    "\n",
    "- `git config --global core.editor \"nano\"`\n",
    "\n",
    "<br>\n",
    "\n",
    "Set VSCode as Default Editor:\n",
    "\n",
    "- `git config --global core.editor \"code --wait\"`\n",
    "\n",
    "Explanation: Configures the text editor for commit messages and merge conflicts."
   ]
  },
  {
   "cell_type": "markdown",
   "metadata": {},
   "source": [
    "### Create Git Aliases\n",
    "\n",
    "- `git config --global alias.st status`\n",
    "\n",
    "- `git config --global alias.co checkout`\n",
    "\n",
    "- `git config --global alias.br branch`\n",
    "\n",
    "- `git config --global alias.cm commit`\n",
    "\n",
    "Explanation: Simplifies frequently used commands."
   ]
  },
  {
   "cell_type": "markdown",
   "metadata": {},
   "source": [
    "### View Git Configuration\n",
    "\n",
    "- `git config --list`\n",
    "\n",
    "Explanation: Displays all Git configuration settings."
   ]
  },
  {
   "cell_type": "markdown",
   "metadata": {},
   "source": [
    "## 12. Differences Between Ubuntu, macOS, and Windows\n",
    "<a id=\"#os\"></a>\n"
   ]
  },
  {
   "cell_type": "markdown",
   "metadata": {},
   "source": [
    "### Line Endings\n",
    "\n",
    "Windows uses CRLF (`\\r\\n`), while Linux/macOS use LF (`\\n`).\n",
    "\n",
    "Configure Git to Handle Line Endings:\n",
    "\n",
    "<br>\n",
    "\n",
    "On Windows:\n",
    "\n",
    "- `git config --global core.autocrlf true`\n",
    "\n",
    "<br>\n",
    "\n",
    "On macOS/Linux:\n",
    "\n",
    "- `git config --global core.autocrlf input`"
   ]
  },
  {
   "cell_type": "markdown",
   "metadata": {},
   "source": [
    "### Path Differences\n",
    "\n",
    "Windows Paths:\n",
    "\n",
    "- Use backslashes `\\` or forward slashes `/`.\n",
    "\n",
    "- Drive letters (e.g., `C:\\Users\\`).\n",
    "\n",
    "<br>\n",
    "\n",
    "Ubuntu/macOS Paths:\n",
    "\n",
    "- Use forward slashes `/`.\n",
    "\n",
    "- Root directory is `/`."
   ]
  },
  {
   "cell_type": "markdown",
   "metadata": {},
   "source": [
    "### Executing Shell Scripts\n",
    "\n",
    "Linux/macOS:\n",
    "\n",
    "- Can execute shell scripts (`.sh` files) directly.\n",
    "\n",
    "<br>\n",
    "\n",
    "Windows:\n",
    "\n",
    "- Shell scripts may not run natively; consider using Git Bash or convert scripts to batch (`.bat`) files or PowerShell scripts."
   ]
  },
  {
   "cell_type": "markdown",
   "metadata": {},
   "source": [
    "## 13. Additional Resources\n",
    "<a id=\"resources\"></a>"
   ]
  },
  {
   "cell_type": "markdown",
   "metadata": {},
   "source": [
    "- Official Git Documentation: https://git-scm.com/doc\n",
    "\n",
    "<br>\n",
    "\n",
    "- Pro Git Book (Free Online): https://git-scm.com/book/en/v2\n",
    "\n",
    "<br>\n",
    "\n",
    "- Git Cheat Sheet (PDF): https://education.github.com/git-cheat-sheet-education.pdf\n",
    "\n",
    "<br>\n",
    "\n",
    "- Interactive Git Tutorial: https://learngitbranching.js.org/"
   ]
  },
  {
   "cell_type": "markdown",
   "metadata": {},
   "source": []
  }
 ],
 "metadata": {
  "kernelspec": {
   "display_name": "NeuroVecio",
   "language": "python",
   "name": "python3"
  },
  "language_info": {
   "codemirror_mode": {
    "name": "ipython",
    "version": 3
   },
   "file_extension": ".py",
   "mimetype": "text/x-python",
   "name": "python",
   "nbconvert_exporter": "python",
   "pygments_lexer": "ipython3",
   "version": "3.9.18"
  }
 },
 "nbformat": 4,
 "nbformat_minor": 2
}
